{
 "cells": [
  {
   "cell_type": "code",
   "execution_count": 10,
   "metadata": {},
   "outputs": [],
   "source": [
    "import requests\n",
    "from datetime import datetime"
   ]
  },
  {
   "cell_type": "code",
   "execution_count": 14,
   "metadata": {},
   "outputs": [
    {
     "name": "stdout",
     "output_type": "stream",
     "text": [
      "The Sunrise time of vancouver is : 2023-10-05 10:17:46\n",
      "The Sunset Time of vancouver is: 2023-10-05 21:43:49\n"
     ]
    }
   ],
   "source": [
    "import requests\n",
    "from datetime import datetime\n",
    "api_key = '6d74e9353e3ab512e6405030fd4f8f75'\n",
    "api_url = 'https://api.openweathermap.org/data/2.5/weather'\n",
    "city = input(\"Enter the city name: \")\n",
    "params = {'q': city,'appid': api_key,'units': 'metric',}\n",
    "response = requests.get(api_url, params=params)\n",
    "if response.status_code == 200:\n",
    "    data = response.json()\n",
    "    sunrise = datetime.fromtimestamp(data['sys']['sunrise']).strftime('%Y-%m-%d %H:%M:%S')\n",
    "    sunset = datetime.fromtimestamp(data['sys']['sunset']).strftime('%Y-%m-%d %H:%M:%S')\n",
    "    print(f\"The Sunrise time of {city} is : {sunrise}\\nThe Sunset Time of {city} is: {sunset}\")\n",
    "else:\n",
    "    print(f\"Request failed with status code: {response.status_code}\")\n"
   ]
  },
  {
   "cell_type": "code",
   "execution_count": 24,
   "metadata": {},
   "outputs": [
    {
     "name": "stdout",
     "output_type": "stream",
     "text": [
      "Weather data for toronto :\n",
      "Temperature: 22.69°C\n",
      "Humidity: 66%\n",
      "Wind Speed: 3.09 m/s\n",
      "Condition: clear sky\n",
      "Weather data for dallas:\n",
      "Temperature: 27.46°C\n",
      "Humidity: 61%\n",
      "Wind Speed: 5.66 m/s\n",
      "Condition: broken clouds\n"
     ]
    }
   ],
   "source": [
    "api_key = '6d74e9353e3ab512e6405030fd4f8f75'\n",
    "api_url = 'https://api.openweathermap.org/data/2.5/weather'\n",
    "city1 = input(\"Enter the first city name: \")\n",
    "city2 = input(\"Enter the second city name: \")\n",
    "def fetch_weather(city_name):\n",
    "    params = {\n",
    "        'q': city_name,\n",
    "        'appid': api_key,\n",
    "        'units': 'metric',\n",
    "    }\n",
    "    response = requests.get(api_url, params=params)\n",
    "    return response\n",
    "response1 = fetch_weather(city1)\n",
    "response2 = fetch_weather(city2)\n",
    "def display_weather(response):\n",
    "    if response.status_code == 200:\n",
    "        data = response.json()\n",
    "        temperature = data['main']['temp']\n",
    "        humidity = data['main']['humidity']\n",
    "        wind_speed = data['wind']['speed']\n",
    "        condition = data['weather'][0]['description']\n",
    "\n",
    "        print(f\"Temperature: {temperature}°C\")\n",
    "        print(f\"Humidity: {humidity}%\")\n",
    "        print(f\"Wind Speed: {wind_speed} m/s\")\n",
    "        print(f\"Condition: {condition}\")\n",
    "    else:\n",
    "        print(f\"Request failed with status code: {response.status_code}\")\n",
    "print(f\"Weather data for {city1}:\")\n",
    "display_weather(response1)\n",
    "print(f\"Weather data for {city2}:\")\n",
    "display_weather(response2)\n"
   ]
  },
  {
   "cell_type": "code",
   "execution_count": 28,
   "metadata": {},
   "outputs": [
    {
     "name": "stdout",
     "output_type": "stream",
     "text": [
      "Weather data for toronto:\n",
      "Weather Condition: clear sky\n",
      "Recommended Product: sunglasses\n"
     ]
    }
   ],
   "source": [
    "import requests\n",
    "\n",
    "# Weather conditions (placeholders)\n",
    "weather_conditions = {\n",
    "    'clear sky': 'sunglasses',\n",
    "    'few clouds': 'hat',\n",
    "    'scattered clouds': 'umbrella',\n",
    "    'broken clouds': 'jacket',\n",
    "    'shower rain': 'raincoat',\n",
    "    'rain': 'umbrella',\n",
    "    'thunderstorm': 'umbrella',\n",
    "    'snow': 'snow boots',\n",
    "    'mist': 'umbrella',\n",
    "}\n",
    "\n",
    "# Replace 'YOUR_API_KEY' with your actual OpenWeatherMap API key\n",
    "api_key = '6d74e9353e3ab512e6405030fd4f8f75'\n",
    "\n",
    "# API URLs\n",
    "weather_api_url = 'https://api.openweathermap.org/data/2.5/weather'\n",
    "fake_store_api_url = 'https://fakestoreapi.com/products'\n",
    "\n",
    "# Input: City name\n",
    "city = input(\"Enter the city name: \")\n",
    "\n",
    "def fetch_weather(city_name):\n",
    "    params = {\n",
    "        'q': city_name,\n",
    "        'appid': api_key,\n",
    "        'units': 'metric',\n",
    "    }\n",
    "    response = requests.get(weather_api_url, params=params)\n",
    "    return response\n",
    "\n",
    "def display_weather(response):\n",
    "    if response.status_code == 200:\n",
    "        data = response.json()\n",
    "        condition = data['weather'][0]['description'].lower()\n",
    "\n",
    "        print(f\"Weather Condition: {condition}\")\n",
    "\n",
    "        # Recommend products based on weather conditions\n",
    "        recommended_product = get_recommended_product(condition)\n",
    "\n",
    "        print(f\"Recommended Product: {recommended_product}\")\n",
    "    else:\n",
    "        print(f\"Request failed with status code: {response.status_code}\")\n",
    "\n",
    "print(f\"Weather data for {city}:\")\n",
    "response = fetch_weather(city)\n",
    "display_weather(response)\n",
    "\n",
    "def get_recommended_product(weather_condition):\n",
    "    # Placeholder logic to recommend a product based on weather conditions\n",
    "    product = weather_conditions.get(weather_condition, 'No recommendation available')\n",
    "    return product\n"
   ]
  },
  {
   "cell_type": "code",
   "execution_count": 30,
   "metadata": {},
   "outputs": [
    {
     "name": "stdout",
     "output_type": "stream",
     "text": [
      "Weather data for new york:\n",
      "Temperature: 20.55°C\n",
      "Humidity: 76%\n",
      "Wind Speed: 6.26 m/s\n",
      "Condition: clear sky\n",
      "Recommended Product: Sunglasses\n",
      "Weather data for tokyo:\n",
      "Temperature: 19.55°C\n",
      "Humidity: 39%\n",
      "Wind Speed: 7.72 m/s\n",
      "Condition: clear sky\n",
      "Recommended Product: Sunglasses\n"
     ]
    }
   ],
   "source": [
    "import requests\n",
    "api_key = '6d74e9353e3ab512e6405030fd4f8f75'\n",
    "weather_api_url = 'https://api.openweathermap.org/data/2.5/weather'\n",
    "fake_store_api_url = 'https://fakestoreapi.com/products'\n",
    "city1 = input(\"Enter the first city name: \")\n",
    "city2 = input(\"Enter the second city name: \")\n",
    "def fetch_weather(city_name):\n",
    "    params = {\n",
    "        'q': city_name,\n",
    "        'appid': api_key,\n",
    "        'units': 'metric',\n",
    "    }\n",
    "    response = requests.get(weather_api_url, params=params)\n",
    "    return response\n",
    "\n",
    "def display_weather(response):\n",
    "    if response.status_code == 200:\n",
    "        data = response.json()\n",
    "        temperature = data['main']['temp']\n",
    "        humidity = data['main']['humidity']\n",
    "        wind_speed = data['wind']['speed']\n",
    "        condition = data['weather'][0]['description']\n",
    "        print(f\"Temperature: {temperature}°C\")\n",
    "        print(f\"Humidity: {humidity}%\")\n",
    "        print(f\"Wind Speed: {wind_speed} m/s\")\n",
    "        print(f\"Condition: {condition}\")\n",
    "        recommended_product = get_recommended_product(condition)\n",
    "        print(f\"Recommended Product: {recommended_product}\")\n",
    "    else:\n",
    "        print(f\"Request failed with status code: {response.status_code}\")\n",
    "\n",
    "print(f\"Weather data for {city1}:\")\n",
    "response1 = fetch_weather(city1)\n",
    "display_weather(response1)\n",
    "print(f\"Weather data for {city2}:\")\n",
    "response2 = fetch_weather(city2)\n",
    "display_weather(response2)\n",
    "\n",
    "def get_recommended_product(weather_condition):\n",
    "    # Placeholder logic to recommend a product based on weather conditions\n",
    "    weather_conditions = {\n",
    "        'clear sky': 'Sunglasses',\n",
    "        'few clouds': 'Hat',\n",
    "        'scattered clouds': 'Umbrella',\n",
    "        'broken clouds': 'Jacket',\n",
    "        'shower rain': 'Raincoat',\n",
    "        'rain': 'Umbrella',\n",
    "        'thunderstorm': 'Umbrella',\n",
    "        'snow': 'Snow boots',\n",
    "        'mist': 'Umbrella',\n",
    "    }\n",
    "    recommended_product = weather_conditions.get(weather_condition.lower(), 'No recommendation available')\n",
    "    return recommended_product\n"
   ]
  },
  {
   "cell_type": "code",
   "execution_count": null,
   "metadata": {},
   "outputs": [],
   "source": []
  }
 ],
 "metadata": {
  "kernelspec": {
   "display_name": "newenv",
   "language": "python",
   "name": "python3"
  },
  "language_info": {
   "codemirror_mode": {
    "name": "ipython",
    "version": 3
   },
   "file_extension": ".py",
   "mimetype": "text/x-python",
   "name": "python",
   "nbconvert_exporter": "python",
   "pygments_lexer": "ipython3",
   "version": "3.10.9"
  },
  "orig_nbformat": 4
 },
 "nbformat": 4,
 "nbformat_minor": 2
}
