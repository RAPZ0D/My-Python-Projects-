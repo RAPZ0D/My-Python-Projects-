{
 "cells": [
  {
   "cell_type": "code",
   "execution_count": 1,
   "metadata": {},
   "outputs": [],
   "source": [
    "import psycopg2"
   ]
  },
  {
   "cell_type": "code",
   "execution_count": 2,
   "metadata": {},
   "outputs": [],
   "source": [
    "hostname = 'localhost'\n",
    "database = 'joelmendonsa'\n",
    "username = 'postgres'\n",
    "pwd = 'Duke#7539'\n",
    "port_id = 5432\n",
    "conn = None\n",
    "cur = None"
   ]
  },
  {
   "cell_type": "code",
   "execution_count": 3,
   "metadata": {},
   "outputs": [],
   "source": [
    "conn = psycopg2.connect(host=hostname,dbname=database,user=username,\n",
    "                        password=pwd,port=port_id)"
   ]
  },
  {
   "cell_type": "code",
   "execution_count": 4,
   "metadata": {},
   "outputs": [],
   "source": [
    "cur = conn.cursor()"
   ]
  },
  {
   "cell_type": "code",
   "execution_count": 5,
   "metadata": {},
   "outputs": [],
   "source": [
    "create_script = '''CREATE TABLE Employee (\n",
    "    EmployeeID INT PRIMARY KEY,\n",
    "    FirstName VARCHAR(255),\n",
    "    LastName VARCHAR(255),\n",
    "    Gender VARCHAR(10),\n",
    "    Department VARCHAR(50),\n",
    "    Salary INT\n",
    ");'''"
   ]
  },
  {
   "cell_type": "code",
   "execution_count": 6,
   "metadata": {},
   "outputs": [],
   "source": [
    "cur.execute(create_script)\n",
    "conn.commit()"
   ]
  },
  {
   "cell_type": "code",
   "execution_count": 7,
   "metadata": {},
   "outputs": [],
   "source": [
    "insert_script = \"INSERT INTO Employee (EmployeeID, FirstName, LastName, Gender, Department, Salary) VALUES(%s,%s,%s,%s,%s,%s)\"\n",
    "insert_values = (1,\"Joel\",\"Mendonsa\",'M','IT',100000)\n",
    "cur.execute(insert_script,insert_values)\n",
    "conn.commit()"
   ]
  },
  {
   "cell_type": "code",
   "execution_count": 8,
   "metadata": {},
   "outputs": [],
   "source": [
    "cur.close()"
   ]
  },
  {
   "cell_type": "code",
   "execution_count": 9,
   "metadata": {},
   "outputs": [],
   "source": [
    "conn.close()"
   ]
  },
  {
   "cell_type": "code",
   "execution_count": null,
   "metadata": {},
   "outputs": [],
   "source": []
  }
 ],
 "metadata": {
  "kernelspec": {
   "display_name": "newenv",
   "language": "python",
   "name": "python3"
  },
  "language_info": {
   "codemirror_mode": {
    "name": "ipython",
    "version": 3
   },
   "file_extension": ".py",
   "mimetype": "text/x-python",
   "name": "python",
   "nbconvert_exporter": "python",
   "pygments_lexer": "ipython3",
   "version": "3.10.9"
  }
 },
 "nbformat": 4,
 "nbformat_minor": 2
}
