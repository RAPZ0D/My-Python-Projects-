{
 "cells": [
  {
   "cell_type": "markdown",
   "metadata": {},
   "source": [
    "Write into a file "
   ]
  },
  {
   "cell_type": "code",
   "execution_count": 2,
   "metadata": {},
   "outputs": [
    {
     "name": "stdout",
     "output_type": "stream",
     "text": [
      "Message has been written to new_word.txt\n"
     ]
    }
   ],
   "source": [
    "file_name = input(\"Enter the file name: \")\n",
    "message = input(\"Enter the message you want to write to the file: \")\n",
    "with open(file_name, \"w\") as file:\n",
    "    file.write(message)\n",
    "print(f\"Message has been written to {file_name}\")"
   ]
  },
  {
   "cell_type": "markdown",
   "metadata": {},
   "source": [
    "Read the file "
   ]
  },
  {
   "cell_type": "code",
   "execution_count": 3,
   "metadata": {},
   "outputs": [
    {
     "name": "stdout",
     "output_type": "stream",
     "text": [
      "File contents:\n",
      "Hello this is a new message\n"
     ]
    }
   ],
   "source": [
    "file_name = input(\"Enter the name of the file you want to read: \")\n",
    "with open(file_name, \"r\") as file:\n",
    "    print(\"File contents:\")\n",
    "    print(file.read())"
   ]
  },
  {
   "cell_type": "markdown",
   "metadata": {},
   "source": [
    "Appends the message\n"
   ]
  },
  {
   "cell_type": "code",
   "execution_count": null,
   "metadata": {},
   "outputs": [],
   "source": [
    "file_name = input(\"Enter the name of the file you want to append to: \")\n",
    "new_message = input(\"Enter the message you want to append to the file: \")\n",
    "with open(file_name, \"a\") as file:\n",
    "    file.write(new_message)\n",
    "print(\"Message has been appended to the file.\")"
   ]
  },
  {
   "cell_type": "code",
   "execution_count": 4,
   "metadata": {},
   "outputs": [],
   "source": [
    "import os"
   ]
  },
  {
   "cell_type": "code",
   "execution_count": 10,
   "metadata": {},
   "outputs": [
    {
     "name": "stdout",
     "output_type": "stream",
     "text": [
      "Message has been appended to the file.\n"
     ]
    }
   ],
   "source": [
    "file_name = input(\"Enter the name of the file you want to append to: \")\n",
    "if os.path.exists(file_name) and (new_message := input(\"Enter the message you want to append to the file: \")):\n",
    "    with open(file_name, \"a\") as file:\n",
    "        file.write(new_message + \"\\n\")\n",
    "    print(\"Message has been appended to the file.\")\n",
    "else:\n",
    "    print(f\"Error: The file '{file_name}' does not exist or no message was provided.\")\n"
   ]
  },
  {
   "cell_type": "code",
   "execution_count": 11,
   "metadata": {},
   "outputs": [
    {
     "name": "stdout",
     "output_type": "stream",
     "text": [
      "Hello this is a new message\n",
      "This is an append text\n",
      "Joel Mendonsa\n",
      "\n"
     ]
    }
   ],
   "source": [
    "with open('new_word.txt', \"r\") as file:\n",
    "    print(file.read())"
   ]
  },
  {
   "cell_type": "markdown",
   "metadata": {},
   "source": [
    "Write a Python program that copies the contents of one text file to\n",
    "another\n"
   ]
  },
  {
   "cell_type": "code",
   "execution_count": 12,
   "metadata": {},
   "outputs": [
    {
     "name": "stdout",
     "output_type": "stream",
     "text": [
      "Contents of 'new_word.txt' have been copied to 'test.txt'.\n"
     ]
    }
   ],
   "source": [
    "source_file_name = input(\"Enter the name of the source file: \")\n",
    "destination_file_name = input(\"Enter the name of the destination file: \")\n",
    "with open(source_file_name, \"r\") as source_file, open(destination_file_name, \"w\") as destination_file:\n",
    "    destination_file.write(source_file.read())\n",
    "print(f\"Contents of '{source_file_name}' have been copied to '{destination_file_name}'.\")\n"
   ]
  },
  {
   "cell_type": "markdown",
   "metadata": {},
   "source": [
    "Write a Python program that uses the with statement to automatically\n",
    "close a file after reading its contents"
   ]
  },
  {
   "cell_type": "code",
   "execution_count": 14,
   "metadata": {},
   "outputs": [
    {
     "name": "stdout",
     "output_type": "stream",
     "text": [
      "File contents: Hello this is a new message\n",
      "This is an append text\n",
      "Joel Mendonsa\n",
      "\n"
     ]
    }
   ],
   "source": [
    "file = open(input(\"Enter the name of the file you want to read: \"), \"r\")\n",
    "file_contents = file.read()\n",
    "print(\"File contents: {}\".format(file_contents))\n",
    "file.close()"
   ]
  },
  {
   "cell_type": "markdown",
   "metadata": {},
   "source": [
    "Write a Python program that sends an HTTP GET request to a specified\n",
    "URL and prints the response"
   ]
  },
  {
   "cell_type": "code",
   "execution_count": 1,
   "metadata": {},
   "outputs": [],
   "source": [
    "import requests"
   ]
  },
  {
   "cell_type": "code",
   "execution_count": null,
   "metadata": {},
   "outputs": [],
   "source": [
    "url = input(\"Enter the URL for the GET request: \")\n",
    "response = requests.get(url)\n",
    "if response.status_code == 200:\n",
    "    print(\"GET request successful!\")\n",
    "    print(\"Response content:\")\n",
    "    print(response.text)\n",
    "else:\n",
    "    print(f\"GET request failed with status code: {response.status_code}\")"
   ]
  },
  {
   "cell_type": "markdown",
   "metadata": {},
   "source": [
    "A program to interact with the API link"
   ]
  },
  {
   "cell_type": "code",
   "execution_count": 5,
   "metadata": {},
   "outputs": [
    {
     "name": "stdout",
     "output_type": "stream",
     "text": [
      "Request failed with status code: 401\n"
     ]
    }
   ],
   "source": [
    "api_key = 'https://api.openweathermap.org/data/2.5/weather'\n",
    "\n",
    "def get_weather(city, country):\n",
    "    base_url = 'https://api.openweathermap.org/data/2.5/weather'\n",
    "    params = {'q': f\"{city},{country}\", 'appid': api_key}\n",
    "    \n",
    "    response = requests.get(base_url, params=params)\n",
    "    \n",
    "    if response.status_code == 200:\n",
    "        data = response.json()\n",
    "        return data\n",
    "    else:\n",
    "        print(f\"Request failed with status code: {response.status_code}\")\n",
    "        return None\n",
    "city = input(\"Enter the city name: \")\n",
    "country = input(\"Enter the country code (e.g., 'US', 'IN'): \")\n",
    "\n",
    "weather_data = get_weather(city, country)\n",
    "if weather_data:\n",
    "    print(\"Weather Data:\")\n",
    "    print(f\"Weather: {weather_data['weather'][0]['main']}\")\n",
    "    print(f\"Description: {weather_data['weather'][0]['description']}\")\n",
    "    print(f\"Temperature: {weather_data['main']['temp']} K\")\n",
    "\n"
   ]
  },
  {
   "cell_type": "code",
   "execution_count": 8,
   "metadata": {},
   "outputs": [
    {
     "name": "stdout",
     "output_type": "stream",
     "text": [
      "Chuck Norris Joke: What is black, white and red all over? Chuck Norris roundhose kicked an actor in a black and white old movie.\n"
     ]
    }
   ],
   "source": [
    "api_url = 'https://api.chucknorris.io/jokes/random'\n",
    "response = requests.get(api_url)\n",
    "if response.status_code == 200:\n",
    "    joke_data = response.json()\n",
    "    joke = joke_data['value']\n",
    "    print(f'Chuck Norris Joke: {joke}')"
   ]
  },
  {
   "cell_type": "markdown",
   "metadata": {},
   "source": [
    "Write a program that handles errors that may occur when making\n",
    "API requests, such as connection errors or HTTP status codes indicating\n",
    "an error"
   ]
  },
  {
   "cell_type": "code",
   "execution_count": 12,
   "metadata": {},
   "outputs": [
    {
     "name": "stdout",
     "output_type": "stream",
     "text": [
      "Request failed status code 404\n"
     ]
    }
   ],
   "source": [
    "api_url = 'https://api.chucknorris.io/jokes/randomS'\n",
    "response = requests.get(api_url)\n",
    "if response.status_code == 200:\n",
    "    joke_data = response.json()\n",
    "    joke = joke_data['value']\n",
    "    print(f'Chuck Norris Joke: {joke}')\n",
    "else:\n",
    "    print(f\"Request failed status code {response.status_code}\")"
   ]
  },
  {
   "cell_type": "markdown",
   "metadata": {},
   "source": [
    "Printing the new types "
   ]
  },
  {
   "cell_type": "code",
   "execution_count": 16,
   "metadata": {},
   "outputs": [
    {
     "name": "stdout",
     "output_type": "stream",
     "text": [
      "Fjallraven - Foldsack No. 1 Backpack, Fits 15 Laptops\n",
      "men's clothing\n",
      "109.95\n",
      "Your perfect pack for everyday use and walks in the forest. Stash your laptop (up to 15 inches) in the padded sleeve, your everyday\n"
     ]
    }
   ],
   "source": [
    "api_url = 'https://fakestoreapi.com/products/1'\n",
    "response = requests.get(api_url)\n",
    "if response.status_code == 200:\n",
    "    product_data = response.json()\n",
    "    print(f\"{product_data['title']}\\n{product_data['category']}\\n{product_data['price']}\\n{product_data['description']}\")\n",
    "else:\n",
    "    print(f\"Request failed with status code: {response.status_code}\")"
   ]
  },
  {
   "cell_type": "markdown",
   "metadata": {},
   "source": [
    "update the file name"
   ]
  },
  {
   "cell_type": "code",
   "execution_count": 1,
   "metadata": {},
   "outputs": [],
   "source": [
    "import os"
   ]
  },
  {
   "cell_type": "code",
   "execution_count": 2,
   "metadata": {},
   "outputs": [
    {
     "name": "stdout",
     "output_type": "stream",
     "text": [
      "File 'test.txt' has been renamed to 'changed.txt'.\n"
     ]
    }
   ],
   "source": [
    "def view_and_update_file_name():\n",
    "    current_file_name = input(\"Enter the current file name: \")\n",
    "    new_file_name = input(\"Enter the new file name: \")\n",
    "\n",
    "    if os.path.exists(current_file_name):\n",
    "        if os.path.exists(new_file_name):\n",
    "            print(f\"Error: A file with the name '{new_file_name}' already exists.\")\n",
    "        else:\n",
    "            os.rename(current_file_name, new_file_name)\n",
    "            print(f\"File '{current_file_name}' has been renamed to '{new_file_name}'.\")\n",
    "    else:\n",
    "        print(f\"Error: The file '{current_file_name}' does not exist.\")\n",
    "\n",
    "view_and_update_file_name()\n"
   ]
  },
  {
   "cell_type": "code",
   "execution_count": 3,
   "metadata": {},
   "outputs": [],
   "source": [
    "old_file_path = input(\"Enter the existing file\")\n",
    "new_file_path = input('Enter the new file name')\n",
    "os.rename(old_file_path, new_file_path)\n"
   ]
  },
  {
   "cell_type": "code",
   "execution_count": 13,
   "metadata": {},
   "outputs": [
    {
     "data": {
      "text/plain": [
       "[(0, 'Spring'), (1, 'Summer'), (2, 'Fall'), (3, 'Winter')]"
      ]
     },
     "execution_count": 13,
     "metadata": {},
     "output_type": "execute_result"
    }
   ],
   "source": [
    "seasons = ['Spring', 'Summer', 'Fall', 'Winter']\n",
    "list(enumerate(seasons))\n",
    "\n"
   ]
  },
  {
   "cell_type": "code",
   "execution_count": 14,
   "metadata": {},
   "outputs": [
    {
     "data": {
      "text/plain": [
       "[(1, 'Spring'), (2, 'Summer'), (3, 'Fall'), (4, 'Winter')]"
      ]
     },
     "execution_count": 14,
     "metadata": {},
     "output_type": "execute_result"
    }
   ],
   "source": [
    "list(enumerate(seasons, start=1))"
   ]
  },
  {
   "cell_type": "code",
   "execution_count": null,
   "metadata": {},
   "outputs": [],
   "source": []
  }
 ],
 "metadata": {
  "kernelspec": {
   "display_name": "newenv",
   "language": "python",
   "name": "python3"
  },
  "language_info": {
   "codemirror_mode": {
    "name": "ipython",
    "version": 3
   },
   "file_extension": ".py",
   "mimetype": "text/x-python",
   "name": "python",
   "nbconvert_exporter": "python",
   "pygments_lexer": "ipython3",
   "version": "3.10.9"
  },
  "orig_nbformat": 4
 },
 "nbformat": 4,
 "nbformat_minor": 2
}
