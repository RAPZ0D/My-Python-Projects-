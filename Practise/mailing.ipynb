{
 "cells": [
  {
   "cell_type": "code",
   "execution_count": 2,
   "metadata": {},
   "outputs": [],
   "source": [
    "import bs4"
   ]
  },
  {
   "cell_type": "code",
   "execution_count": 1,
   "metadata": {},
   "outputs": [],
   "source": [
    "import smtplib"
   ]
  },
  {
   "cell_type": "code",
   "execution_count": 2,
   "metadata": {},
   "outputs": [],
   "source": [
    "the_object = smtplib.SMTP('smtp.gmail.com',587)"
   ]
  },
  {
   "cell_type": "code",
   "execution_count": 3,
   "metadata": {},
   "outputs": [
    {
     "data": {
      "text/plain": [
       "(250,\n",
       " b'smtp.gmail.com at your service, [72.140.223.188]\\nSIZE 35882577\\n8BITMIME\\nSTARTTLS\\nENHANCEDSTATUSCODES\\nPIPELINING\\nCHUNKING\\nSMTPUTF8')"
      ]
     },
     "execution_count": 3,
     "metadata": {},
     "output_type": "execute_result"
    }
   ],
   "source": [
    "the_object.ehlo()"
   ]
  },
  {
   "cell_type": "code",
   "execution_count": 4,
   "metadata": {},
   "outputs": [
    {
     "data": {
      "text/plain": [
       "(220, b'2.0.0 Ready to start TLS')"
      ]
     },
     "execution_count": 4,
     "metadata": {},
     "output_type": "execute_result"
    }
   ],
   "source": [
    "the_object.starttls()"
   ]
  },
  {
   "cell_type": "code",
   "execution_count": 5,
   "metadata": {},
   "outputs": [],
   "source": [
    "import getpass"
   ]
  },
  {
   "cell_type": "code",
   "execution_count": 6,
   "metadata": {},
   "outputs": [],
   "source": [
    "password = getpass.getpass(\"Enter The password\")"
   ]
  },
  {
   "cell_type": "markdown",
   "metadata": {},
   "source": [
    "mvvh hyll ewhl hyce (app password)"
   ]
  },
  {
   "cell_type": "code",
   "execution_count": 7,
   "metadata": {},
   "outputs": [
    {
     "data": {
      "text/plain": [
       "(235, b'2.7.0 Accepted')"
      ]
     },
     "execution_count": 7,
     "metadata": {},
     "output_type": "execute_result"
    }
   ],
   "source": [
    "email = input(\"Enter the email\")\n",
    "password = input(\"Enter the password\")\n",
    "the_object.login(email,password)"
   ]
  },
  {
   "cell_type": "code",
   "execution_count": 8,
   "metadata": {},
   "outputs": [
    {
     "data": {
      "text/plain": [
       "{}"
      ]
     },
     "execution_count": 8,
     "metadata": {},
     "output_type": "execute_result"
    }
   ],
   "source": [
    "from_address = email\n",
    "to_address = input(\"Enter the new email\")\n",
    "subject = input(\"Enter the subject\")\n",
    "message = input(\"Enter the message\")\n",
    "msg = \"Subject: \"+subject+\"\\n\"+message\n",
    "the_object.sendmail(from_address,to_address,msg)"
   ]
  },
  {
   "cell_type": "code",
   "execution_count": 9,
   "metadata": {},
   "outputs": [
    {
     "data": {
      "text/plain": [
       "(221,\n",
       " b'2.0.0 closing connection d10-20020a0cf0ca000000b0065b21b232bfsm3233589qvl.138 - gsmtp')"
      ]
     },
     "execution_count": 9,
     "metadata": {},
     "output_type": "execute_result"
    }
   ],
   "source": [
    "the_object.quit()"
   ]
  },
  {
   "cell_type": "code",
   "execution_count": 10,
   "metadata": {},
   "outputs": [],
   "source": [
    "import imaplib"
   ]
  },
  {
   "cell_type": "code",
   "execution_count": 11,
   "metadata": {},
   "outputs": [],
   "source": [
    "M = imaplib.IMAP4_SSL('imap.gmail.com')"
   ]
  },
  {
   "cell_type": "code",
   "execution_count": 12,
   "metadata": {},
   "outputs": [
    {
     "data": {
      "text/plain": [
       "('OK', [b'joel.mendonsa30@gmail.com authenticated (Success)'])"
      ]
     },
     "execution_count": 12,
     "metadata": {},
     "output_type": "execute_result"
    }
   ],
   "source": [
    "email = input()\n",
    "password = input()\n",
    "M.login(email,password)"
   ]
  },
  {
   "cell_type": "code",
   "execution_count": 13,
   "metadata": {},
   "outputs": [
    {
     "data": {
      "text/plain": [
       "('OK',\n",
       " [b'(\\\\HasNoChildren) \"/\" \"INBOX\"',\n",
       "  b'(\\\\HasChildren \\\\Noselect) \"/\" \"[Gmail]\"',\n",
       "  b'(\\\\All \\\\HasNoChildren) \"/\" \"[Gmail]/All Mail\"',\n",
       "  b'(\\\\Drafts \\\\HasNoChildren) \"/\" \"[Gmail]/Drafts\"',\n",
       "  b'(\\\\HasNoChildren \\\\Important) \"/\" \"[Gmail]/Important\"',\n",
       "  b'(\\\\HasNoChildren \\\\Sent) \"/\" \"[Gmail]/Sent Mail\"',\n",
       "  b'(\\\\HasNoChildren \\\\Junk) \"/\" \"[Gmail]/Spam\"',\n",
       "  b'(\\\\Flagged \\\\HasNoChildren) \"/\" \"[Gmail]/Starred\"',\n",
       "  b'(\\\\HasNoChildren \\\\Trash) \"/\" \"[Gmail]/Trash\"'])"
      ]
     },
     "execution_count": 13,
     "metadata": {},
     "output_type": "execute_result"
    }
   ],
   "source": [
    "M.list()"
   ]
  },
  {
   "cell_type": "code",
   "execution_count": 14,
   "metadata": {},
   "outputs": [
    {
     "data": {
      "text/plain": [
       "('OK', [b'33231'])"
      ]
     },
     "execution_count": 14,
     "metadata": {},
     "output_type": "execute_result"
    }
   ],
   "source": [
    "M.select('inbox')"
   ]
  },
  {
   "cell_type": "code",
   "execution_count": 20,
   "metadata": {},
   "outputs": [],
   "source": [
    "typ, data=M.search(None,'SUBJECT \"NEW MAIL\"')"
   ]
  },
  {
   "cell_type": "code",
   "execution_count": 21,
   "metadata": {},
   "outputs": [
    {
     "data": {
      "text/plain": [
       "'OK'"
      ]
     },
     "execution_count": 21,
     "metadata": {},
     "output_type": "execute_result"
    }
   ],
   "source": [
    "typ"
   ]
  },
  {
   "cell_type": "code",
   "execution_count": 24,
   "metadata": {},
   "outputs": [
    {
     "data": {
      "text/plain": [
       "[b'19090']"
      ]
     },
     "execution_count": 24,
     "metadata": {},
     "output_type": "execute_result"
    }
   ],
   "source": [
    "data"
   ]
  },
  {
   "cell_type": "code",
   "execution_count": 25,
   "metadata": {},
   "outputs": [],
   "source": [
    "email_id = data[0]"
   ]
  },
  {
   "cell_type": "code",
   "execution_count": 27,
   "metadata": {},
   "outputs": [],
   "source": [
    "result, email_data = M.fetch(email_id,'(RFC822)')"
   ]
  },
  {
   "cell_type": "code",
   "execution_count": 30,
   "metadata": {},
   "outputs": [],
   "source": [
    "raw_email = email_data[0][1]"
   ]
  },
  {
   "cell_type": "code",
   "execution_count": 32,
   "metadata": {},
   "outputs": [],
   "source": [
    "raw_email_string = raw_email.decode('utf-8')"
   ]
  },
  {
   "cell_type": "code",
   "execution_count": 33,
   "metadata": {},
   "outputs": [],
   "source": [
    "import email"
   ]
  },
  {
   "cell_type": "code",
   "execution_count": 34,
   "metadata": {},
   "outputs": [],
   "source": [
    "email_message = email.message_from_string(raw_email_string)"
   ]
  },
  {
   "cell_type": "code",
   "execution_count": 37,
   "metadata": {},
   "outputs": [
    {
     "name": "stdout",
     "output_type": "stream",
     "text": [
      "b'Offers From The Right To Fashion Sale.\\r\\n\\r\\n <http://myntrakart.ftrans03.com/gtrack?clientid=22615&ul=\\r\\nVQENB1YGVwxNUEkJWlFUTFkHWVINXkJYBgZ4AQ5QWQ8cBVpUTwtaBw0ZXlVZVlkKQ1AAACUCXVNaX0xQWQgY&ml=UgMPBxoGHgcCVw1bSQ==&sl=Jkx6STNlHmd8NUkOTFpMEFUJVkQWHldNR1dWFVMCHgBdC0kJ&pp=0&>\\r\\n\\r\\n <http://myntrakart.ftrans03.com/gtrack?clientid=22615&ul=\\r\\nVQENB1YGVwxNUEkJWlFUTFkHWVINXkJYBgZ4AQ5QWQ8cBVpUTwtaBw0ZXlVZVlkKQ1AAACUCXVNaX0xQWQgY&ml=UgMPBxoGHgcCVw1aSQ==&sl=Jkx6STNlHmd8NUkOTFpMEFUJVkQWHldNR1dWFVMCHgBdC0kJ&pp=0&>\\r\\n <http://myntrakart.ftrans03.com/gtrack?clientid=22615&ul=\\r\\nVQENB1YGVwxNUEkJWlFUTFkHWVINXkJYBgZ4AQ5QWQ8cBVpUTwtaBw0ZXlVZVlkKQ1AAACUCXVNaX0xQWQgY&ml=UgMPBxoGHgcCVwxTSQ==&sl=Jkx6STNlHmd8NUkOTFpMEFUJVkQWHldNR1dWFVMCHgBdC0kJ&pp=0&>\\r\\n\\r\\n <http://myntrakart.ftrans03.com/gtrack?clientid=22615&ul=\\r\\nVQENB1YGVwxNUEkJWlFUTFkHWVINXkJYBgZ4AQ5QWQ8cBVpUTwtaBw0ZXlVZVlkKQ1AAACUCXVNaX0xQWQgY&ml=UgMPBxoGHgcCVwxSSQ==&sl=Jkx6STNlHmd8NUkOTFpMEFUJVkQWHldNR1dWFVMCHgBdC0kJ&pp=0&>\\r\\n <http://myntrakart.ftrans03.com/gtrack?clientid=22615&ul=\\r\\nVQENB1YGVwxNUEkJWlFUTFkHWVINXkJYBgZ4AQ5QWQ8cBVpUTwtaBw0ZXlVZVlkKQ1AAACUCXVNaX0xQWQgY&ml=UgMPBxoGHgcCVwxRSQ==&sl=Jkx6STNlHmd8NUkOTFpMEFUJVkQWHldNR1dWFVMCHgBdC0kJ&pp=0&>\\r\\n\\r\\n <http://myntrakart.ftrans03.com/gtrack?clientid=22615&ul=\\r\\nVQENB1YGVwxNUEkJWlFUTFkHWVINXkJYBgZ4AQ5QWQ8cBVpUTwtaBw0ZXlVZVlkKQ1AAACUCXVNaX0xQWQgY&ml=UgMPBxoGHgcCVwxQSQ==&sl=Jkx6STNlHmd8NUkOTFpMEFUJVkQWHldNR1dWFVMCHgBdC0kJ&pp=0&>\\r\\n <http://myntrakart.ftrans03.com/gtrack?clientid=22615&ul=\\r\\nVQENB1YGVwxNUEkJWlFUTFkHWVINXkJYBgZ4AQ5QWQ8cBVpUTwtaBw0ZXlVZVlkKQ1AAACUCXVNaX0xQWQgY&ml=UgMPBxoGHgcCVwxXSQ==&sl=Jkx6STNlHmd8NUkOTFpMEFUJVkQWHldNR1dWFVMCHgBdC0kJ&pp=0&>\\r\\n\\r\\n <http://myntrakart.ftrans03.com/gtrack?clientid=22615&ul=\\r\\nVQENB1YGVwxNUEkJWlFUTFkHWVINXkJYBgZ4AQ5QWQ8cBVpUTwtaBw0ZXlVZVlkKQ1AAACUCXVNaX0xQWQgY&ml=UgMPBxoGHgcCVwxWSQ==&sl=Jkx6STNlHmd8NUkOTFpMEFUJVkQWHldNR1dWFVMCHgBdC0kJ&pp=0&>\\r\\n\\r\\n To unsubscribe from these mailings, you may opt out here.\\r\\n<http://myntrakart.ftrans03.com/gtrack?clientid=22615&ul=\\r\\nVQENB1YGVwxNUEkJWlFUTFkHWVINXkJYBgZ4AQ5QWQ8cBVpUTwtaBw0ZXlVZVlkKQ1AAACUCXVNaX0xQWQgY&ml=UgMPBxoGHgcCVgRXSQ==&sl=Jkx6STNlHmd8NUkOTFpMEFUJVkQWHldNR1dWFVMCHgBdC0kJ&pp=0&>\\r\\n\\r\\n If you would like to experience the best of online\\r\\nshopping for men, women and kids in India, you are at theright place.\\r\\nMyntra is the ultimate destination for fashion and lifestyle, being\\r\\nhost to a wide array of merchandise\\r\\nincluding clothing,footwear,accessories, jewellery, personal care\\r\\nproducts and more. It is time to redefine your style statement with\\r\\nour treasure-trove of trendy items. Our online store brings you the\\r\\nlatest in designer products straight out of fashion houses. You can\\r\\nshop online at Myntra from the comfort of your home and get your\\r\\nfavourites delivered right to your doorsteps.\\r\\n\\r\\n'\n"
     ]
    }
   ],
   "source": [
    "for part in email_message.walk():\n",
    "    if part.get_content_type() =='text/plain':\n",
    "        body = part.get_payload(decode=True)\n",
    "        print(body)\n"
   ]
  },
  {
   "cell_type": "code",
   "execution_count": null,
   "metadata": {},
   "outputs": [],
   "source": []
  }
 ],
 "metadata": {
  "kernelspec": {
   "display_name": "newenv",
   "language": "python",
   "name": "python3"
  },
  "language_info": {
   "codemirror_mode": {
    "name": "ipython",
    "version": 3
   },
   "file_extension": ".py",
   "mimetype": "text/x-python",
   "name": "python",
   "nbconvert_exporter": "python",
   "pygments_lexer": "ipython3",
   "version": "3.10.9"
  }
 },
 "nbformat": 4,
 "nbformat_minor": 2
}
