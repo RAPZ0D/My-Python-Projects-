{
 "cells": [
  {
   "cell_type": "code",
   "execution_count": 1,
   "metadata": {},
   "outputs": [],
   "source": [
    "import mysql.connector"
   ]
  },
  {
   "cell_type": "code",
   "execution_count": 2,
   "metadata": {},
   "outputs": [
    {
     "name": "stdout",
     "output_type": "stream",
     "text": [
      "Connected to the MySQL database.\n"
     ]
    }
   ],
   "source": [
    "\n",
    "# Replace with your MySQL database configuration\n",
    "db_config = {\n",
    "    'host': 'localhost',\n",
    "    'user': 'root',\n",
    "    'password': 'Duke#7539',\n",
    "    'database': 'sys'\n",
    "}\n",
    "\n",
    "try:\n",
    "    # Create a connection to the MySQL server\n",
    "    conn = mysql.connector.connect(**db_config)\n",
    "\n",
    "    if conn.is_connected():\n",
    "        print(\"Connected to the MySQL database.\")\n",
    "    else:\n",
    "        print(\"Connection failed.\")\n",
    "except mysql.connector.Error as e:\n",
    "    print(f\"Error: {e}\")\n",
    "finally:\n",
    "    # Close the database connection in the end\n",
    "    if 'conn' in locals():\n",
    "        conn.close()\n"
   ]
  },
  {
   "cell_type": "code",
   "execution_count": 3,
   "metadata": {},
   "outputs": [
    {
     "name": "stdout",
     "output_type": "stream",
     "text": [
      "Table 'new_table' has been created.\n"
     ]
    }
   ],
   "source": [
    "import mysql.connector\n",
    "\n",
    "# Replace with your MySQL database configuration\n",
    "db_config = {\n",
    "    'host': 'localhost',\n",
    "    'user': 'root',\n",
    "    'password': 'Duke#7539',\n",
    "    'database': 'sys'\n",
    "}\n",
    "\n",
    "\n",
    "# Define the SQL statement to create a new table\n",
    "create_table_query = \"\"\"\n",
    "CREATE TABLE IF NOT EXISTS Test (\n",
    "    id INT PRIMARY KEY,\n",
    "    name VARCHAR(255),\n",
    "    age INT\n",
    ");\n",
    "\"\"\"\n",
    "\n",
    "try:\n",
    "    conn = mysql.connector.connect(**db_config)\n",
    "    cursor = conn.cursor()\n",
    "\n",
    "    # Execute the SQL statement to create the new table\n",
    "    cursor.execute(create_table_query)\n",
    "    print(\"Table 'new_table' has been created.\")\n",
    "except mysql.connector.Error as e:\n",
    "    print(f\"Error: {e}\")\n",
    "finally:\n",
    "    cursor.close()\n",
    "    conn.close()\n"
   ]
  },
  {
   "cell_type": "code",
   "execution_count": 4,
   "metadata": {},
   "outputs": [
    {
     "name": "stdout",
     "output_type": "stream",
     "text": [
      "Table 'Test' created and data inserted.\n"
     ]
    }
   ],
   "source": [
    "db_config = {\n",
    "    'host': 'localhost',\n",
    "    'user': 'root',\n",
    "    'password': 'Duke#7539',\n",
    "    'database': 'sys'}\n",
    "\n",
    "\n",
    "\n",
    "create_table_query = \"\"\"\n",
    "CREATE TABLE IF NOT EXISTS Test (\n",
    "    id INT PRIMARY KEY,\n",
    "    name VARCHAR(255),\n",
    "    age INT\n",
    ");\n",
    "\"\"\"\n",
    "\n",
    "data_to_insert = [\n",
    "    (1, 'John', 30),\n",
    "    (2, 'Alice', 25),\n",
    "    (3, 'Bob', 35),\n",
    "    (4, 'Eve', 28),\n",
    "    (5, 'Charlie', 42)\n",
    "]\n",
    "\n",
    "insert_query = \"INSERT INTO Test (id, name, age) VALUES (%s, %s, %s)\"\n",
    "\n",
    "try:\n",
    "    conn = mysql.connector.connect(**db_config)\n",
    "    cursor = conn.cursor()\n",
    "    cursor.execute(create_table_query)\n",
    "    cursor.executemany(insert_query, data_to_insert)\n",
    "    conn.commit()\n",
    "    print(\"Table 'Test' created and data inserted.\")\n",
    "except mysql.connector.Error as e:\n",
    "    print(f\"Error: {e}\")\n",
    "finally:\n",
    "    cursor.close()\n",
    "    conn.close()\n"
   ]
  },
  {
   "cell_type": "code",
   "execution_count": 5,
   "metadata": {},
   "outputs": [
    {
     "name": "stdout",
     "output_type": "stream",
     "text": [
      "ID: 1, Name: John, Age: 30\n",
      "ID: 2, Name: Alice, Age: 25\n",
      "ID: 3, Name: Bob, Age: 35\n",
      "ID: 4, Name: Eve, Age: 28\n",
      "ID: 5, Name: Charlie, Age: 42\n"
     ]
    }
   ],
   "source": [
    "db_config = {\n",
    "    'host': 'localhost',\n",
    "    'user': 'root',\n",
    "    'password': 'Duke#7539',\n",
    "    'database': 'sys'\n",
    "}\n",
    "\n",
    "select_query = \"SELECT * FROM Test\"\n",
    "\n",
    "try:\n",
    "    conn = mysql.connector.connect(**db_config)\n",
    "    cursor = conn.cursor()\n",
    "    \n",
    "    cursor.execute(select_query)\n",
    "    \n",
    "    results = cursor.fetchall()\n",
    "    \n",
    "    if results:\n",
    "        for row in results:\n",
    "            print(f\"ID: {row[0]}, Name: {row[1]}, Age: {row[2]}\")\n",
    "    else:\n",
    "        print(\"No data found in the 'Test' table.\")\n",
    "except mysql.connector.Error as e:\n",
    "    print(f\"Error: {e}\")\n",
    "finally:\n",
    "    cursor.close()\n",
    "    conn.close()\n"
   ]
  },
  {
   "cell_type": "code",
   "execution_count": 6,
   "metadata": {},
   "outputs": [],
   "source": [
    "cursor.close()\n",
    "conn.close()"
   ]
  },
  {
   "cell_type": "code",
   "execution_count": null,
   "metadata": {},
   "outputs": [],
   "source": []
  }
 ],
 "metadata": {
  "kernelspec": {
   "display_name": "newenv",
   "language": "python",
   "name": "python3"
  },
  "language_info": {
   "codemirror_mode": {
    "name": "ipython",
    "version": 3
   },
   "file_extension": ".py",
   "mimetype": "text/x-python",
   "name": "python",
   "nbconvert_exporter": "python",
   "pygments_lexer": "ipython3",
   "version": "3.10.9"
  }
 },
 "nbformat": 4,
 "nbformat_minor": 2
}
