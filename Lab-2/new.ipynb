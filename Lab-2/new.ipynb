{
 "cells": [
  {
   "cell_type": "markdown",
   "metadata": {},
   "source": [
    "Factorial"
   ]
  },
  {
   "cell_type": "code",
   "execution_count": 3,
   "metadata": {},
   "outputs": [
    {
     "name": "stdout",
     "output_type": "stream",
     "text": [
      "The factorial of 3 is 6\n"
     ]
    }
   ],
   "source": [
    "def factorial(n):\n",
    "    if n == 0:\n",
    "        return 1\n",
    "    return n * factorial(n - 1)\n",
    "\n",
    "factorial_input = input(\"Enter a non-negative integer: \")\n",
    "\n",
    "if factorial_input.isdigit():\n",
    "    num = int(factorial_input)\n",
    "    if num >= 0:\n",
    "        result = factorial(num)\n",
    "        print(f\"The factorial of {num} is {result}\")\n",
    "    else:\n",
    "        print(\"Invalid input\")\n",
    "else:\n",
    "    print(\"Wrong input\")\n"
   ]
  },
  {
   "cell_type": "markdown",
   "metadata": {},
   "source": [
    "Prime Number"
   ]
  },
  {
   "cell_type": "code",
   "execution_count": 4,
   "metadata": {},
   "outputs": [
    {
     "name": "stdout",
     "output_type": "stream",
     "text": [
      "5 is a prime number\n"
     ]
    }
   ],
   "source": [
    "def is_prime(num):\n",
    "    if num > 1:\n",
    "        for i in range(2, int(num / 2) + 1):\n",
    "            if (num % i) == 0:\n",
    "                return False\n",
    "        else:\n",
    "            return True\n",
    "    else:\n",
    "        return False\n",
    "\n",
    "num = int(input(\"Enter the number\"))\n",
    "if is_prime(num):\n",
    "    print(num, \"is a prime number\")\n",
    "else:\n",
    "    print(num, \"is not a prime number\")\n"
   ]
  },
  {
   "cell_type": "markdown",
   "metadata": {},
   "source": [
    "VEHICE"
   ]
  },
  {
   "cell_type": "code",
   "execution_count": 6,
   "metadata": {},
   "outputs": [
    {
     "name": "stdout",
     "output_type": "stream",
     "text": [
      "\n",
      "Vehicle Information:\n",
      "Brand: kawasaki\n",
      "Model: h2r\n",
      "Vehicle Type: Motorcycle\n",
      "Engine started\n",
      "Motorcycle engine started\n"
     ]
    }
   ],
   "source": [
    "class Vehicle:\n",
    "    def __init__(self, brand, model):\n",
    "        self.brand = brand\n",
    "        self.model = model\n",
    "\n",
    "    def display_info(self):\n",
    "        print(f\"Brand: {self.brand}\")\n",
    "        print(f\"Model: {self.model}\")\n",
    "\n",
    "    def start_engine(self):\n",
    "        print(\"Engine started\")\n",
    "\n",
    "class Car(Vehicle):\n",
    "    def __init__(self, brand, model):\n",
    "        super().__init__(brand, model)\n",
    "\n",
    "    def display_info(self):\n",
    "        super().display_info()\n",
    "        print(\"Vehicle Type: Car\")\n",
    "\n",
    "    def start_engine(self):\n",
    "        super().start_engine()\n",
    "        print(\"Car engine started\")\n",
    "\n",
    "class Motorcycle(Vehicle):\n",
    "    def __init__(self, brand, model):\n",
    "        super().__init__(brand, model)\n",
    "\n",
    "    def display_info(self):\n",
    "        super().display_info()\n",
    "        print(\"Vehicle Type: Motorcycle\")\n",
    "\n",
    "    def start_engine(self):\n",
    "        super().start_engine()\n",
    "        print(\"Motorcycle engine started\")\n",
    "\n",
    "def get_vehicle_info():\n",
    "    brand = input(\"Enter the brand of the vehicle: \")\n",
    "    model = input(\"Enter the model of the vehicle: \")\n",
    "    return brand, model\n",
    "\n",
    "def create_vehicle():\n",
    "    vehicle_type = input(\"Select vehicle type (Car/Motorcycle): \").strip().lower()\n",
    "    if vehicle_type == \"car\":\n",
    "        brand, model = get_vehicle_info()\n",
    "        return Car(brand, model)\n",
    "    elif vehicle_type == \"motorcycle\":\n",
    "        brand, model = get_vehicle_info()\n",
    "        return Motorcycle(brand, model)\n",
    "    else:\n",
    "        print(\"Invalid vehicle type\")\n",
    "        return None\n",
    "\n",
    "vehicle = create_vehicle()\n",
    "if vehicle:\n",
    "    print(\"\\nVehicle Information:\")\n",
    "    vehicle.display_info()\n",
    "    input(\"Press Enter to start the engine...\")\n",
    "    vehicle.start_engine()\n"
   ]
  },
  {
   "cell_type": "markdown",
   "metadata": {},
   "source": [
    "BANK ATM\n"
   ]
  },
  {
   "cell_type": "code",
   "execution_count": 1,
   "metadata": {},
   "outputs": [
    {
     "name": "stdout",
     "output_type": "stream",
     "text": [
      "Account Holder: Joel\n",
      "Account Number: 21102\n",
      "Account Balance: 1000.0\n",
      "Deposited: 500.0\n",
      "New Balance: 1500.0\n",
      "Insufficient Balance\n",
      "Withdrew: 350.0\n",
      "New Balance: 1150.0\n",
      "Thank you for using our ATM. Goodbye!\n"
     ]
    }
   ],
   "source": [
    "class BankAccount:\n",
    "    def __init__(self, name, account_number, initial_balance):\n",
    "        self.name = name\n",
    "        self.account_number = account_number\n",
    "        self.balance = initial_balance\n",
    "\n",
    "    def display_info(self):\n",
    "        print(f\"Account Holder: {self.name}\")\n",
    "        print(f\"Account Number: {self.account_number}\")\n",
    "        print(f\"Account Balance: {self.balance}\")\n",
    "\n",
    "    def deposit(self, amount):\n",
    "        self.balance += amount\n",
    "        print(f\"Deposited: {amount}\")\n",
    "        print(f\"New Balance: {self.balance}\")\n",
    "\n",
    "    def withdraw(self, amount):\n",
    "        if amount > self.balance:\n",
    "            print(\"Insufficient Balance\")\n",
    "        else:\n",
    "            self.balance -= amount\n",
    "            print(f\"Withdrew: {amount}\")\n",
    "            print(f\"New Balance: {self.balance}\")\n",
    "name = input(\"Enter your name: \")\n",
    "account_number = input(\"Enter your account number: \")\n",
    "initial_balance = float(input(\"Enter your initial balance: \"))\n",
    "\n",
    "account = BankAccount(name, account_number, initial_balance)\n",
    "account.display_info()\n",
    "while True:\n",
    "    choice = input(\"Choose an option (D: Deposit, W: Withdraw, Q: Quit): \").upper()\n",
    "    \n",
    "    if choice == \"D\":\n",
    "        deposit_amount = float(input(\"Enter the deposit amount: \"))\n",
    "        account.deposit(deposit_amount)\n",
    "    elif choice == \"W\":\n",
    "        withdraw_amount = float(input(\"Enter the withdrawal amount: \"))\n",
    "        account.withdraw(withdraw_amount)\n",
    "    elif choice == \"Q\":\n",
    "        print(\"Thank you for using our ATM. Goodbye!\")\n",
    "        break\n",
    "    else:\n",
    "        print(\"Invalid choice. Please select a valid option.\")\n"
   ]
  },
  {
   "cell_type": "markdown",
   "metadata": {},
   "source": [
    "AREA circle and rectangle"
   ]
  },
  {
   "cell_type": "code",
   "execution_count": 4,
   "metadata": {},
   "outputs": [
    {
     "name": "stdout",
     "output_type": "stream",
     "text": [
      "Rectangle Area: 18\n",
      "Circle Area: 153.86\n"
     ]
    }
   ],
   "source": [
    "class Shape:\n",
    "    def area(self):\n",
    "        pass\n",
    "\n",
    "class Rectangle(Shape):\n",
    "    def __init__(self, width, height):\n",
    "        self.width, self.height = width, height\n",
    "    def area(self):\n",
    "        return self.width * self.height\n",
    "\n",
    "class Circle(Shape):\n",
    "    def __init__(self, radius):\n",
    "        self.radius = radius\n",
    "    def area(self):\n",
    "        return 3.14 * self.radius ** 2\n",
    "\n",
    "rectangle = Rectangle(3,6)\n",
    "circle = Circle(7)\n",
    "print(f\"Area of Rectangle: {rectangle.area()}\")\n",
    "print(f\"Area of Circle: {circle.area()}\")\n"
   ]
  },
  {
   "cell_type": "markdown",
   "metadata": {},
   "source": [
    "ANIMAL SOUND"
   ]
  },
  {
   "cell_type": "markdown",
   "metadata": {},
   "source": [
    "Design a program with a base class Animal and derived classes Dog and Cat.\n",
    "Each class should have attributes like name, age, and methods like\n",
    "make_sound(). Provide user interaction to create instances and call the\n",
    "make_sound() method"
   ]
  },
  {
   "cell_type": "code",
   "execution_count": 30,
   "metadata": {},
   "outputs": [
    {
     "name": "stdout",
     "output_type": "stream",
     "text": [
      "ik is 4 years old.\n",
      "None\n",
      "ik has started to FLY!!\n"
     ]
    }
   ],
   "source": [
    "class Animal:\n",
    "    def __init__(self, name, age):\n",
    "        self.name = name\n",
    "        self.age = age\n",
    "\n",
    "    def fly(self):\n",
    "        pass\n",
    "    def give_birth(self):\n",
    "        pass\n",
    "class Bird(Animal):\n",
    "    def fly(self):\n",
    "        return f\"{self.name} has started to FLY!!\"\n",
    "class Mammal(Animal):\n",
    "    def give_birth(self):\n",
    "        return f\"{self.name} Has given Birth!!\"\n",
    "    \n",
    "def get_animal_info():\n",
    "    name = input(\"Enter the name of the animal: \")\n",
    "    age = input(\"Enter the age of the animal: \")\n",
    "    return name, age\n",
    "\n",
    "def create_animal():\n",
    "    animal_type = input(\"Select animal type (Bird/Mammal): \").strip().lower()\n",
    "    name, age = get_animal_info()\n",
    "    if animal_type == \"bird\":\n",
    "        return Bird(name, age)\n",
    "    elif animal_type == \"mammal\":\n",
    "        return Mammal(name, age)\n",
    "    else:\n",
    "        print(\"Invalid animal type\")\n",
    "        return None\n",
    "animal = create_animal()\n",
    "if animal:\n",
    "    print(f\"{animal.name} is {animal.age} years old.\")\n",
    "    print(animal.give_birth())\n",
    "    print(animal.fly())\n",
    "\n"
   ]
  },
  {
   "cell_type": "markdown",
   "metadata": {},
   "source": [
    "OS create file"
   ]
  },
  {
   "cell_type": "code",
   "execution_count": null,
   "metadata": {},
   "outputs": [],
   "source": [
    "import os\n",
    "\n",
    "def list_contents():\n",
    "    print(\"\\nCurrent directory contents:\")\n",
    "    for item in os.listdir():\n",
    "        print(item)\n",
    "\n",
    "def create_directory():\n",
    "    name = input(\"\\nEnter the name of the new directory: \")\n",
    "    try:\n",
    "        os.mkdir(name)\n",
    "        print(f\"Directory '{name}' created.\")\n",
    "    except FileExistsError:\n",
    "        print(f\"Directory '{name}' already exists.\")\n",
    "\n",
    "def create_text_file():\n",
    "    name = input(\"\\nEnter the name of the new text file: \")\n",
    "    content = input(\"Enter text to write to the file (Ctrl+D to finish):\\n\")\n",
    "    with open(name, \"w\") as file:\n",
    "        file.write(content)\n",
    "        print(f\"File '{name}' created and written.\")\n",
    "\n",
    "def read_file():\n",
    "    name = input(\"\\nEnter the name of the text file to read: \")\n",
    "    try:\n",
    "        with open(name, \"r\") as file:\n",
    "            content = file.read()\n",
    "            print(f\"Contents of '{name}':\\n{content}\")\n",
    "    except FileNotFoundError:\n",
    "        print(f\"File '{name}' not found.\")\n",
    "\n",
    "def rename_item():\n",
    "    old_name = input(\"\\nEnter the current name of the item: \")\n",
    "    new_name = input(\"Enter the new name for the item: \")\n",
    "    try:\n",
    "        os.rename(old_name, new_name)\n",
    "        print(f\"Item '{old_name}' renamed to '{new_name}'.\")\n",
    "    except FileNotFoundError:\n",
    "        print(f\"Item '{old_name}' not found.\")\n",
    "\n",
    "def remove_item():\n",
    "    name = input(\"\\nEnter the name of the item to remove: \")\n",
    "    try:\n",
    "        if os.path.exists(name):\n",
    "            if os.path.isfile(name):\n",
    "                os.remove(name)\n",
    "                print(f\"File '{name}' removed.\")\n",
    "            elif os.path.isdir(name):\n",
    "                os.rmdir(name)\n",
    "                print(f\"Directory '{name}' removed.\")\n",
    "        else:\n",
    "            print(f\"'{name}' not found.\")\n",
    "    except Exception as e:\n",
    "        print(f\"Error: {e}\")\n",
    "\n",
    "while True:\n",
    "    print(\"\\nFile System Menu:\")\n",
    "    print(\"1. List directory contents\")\n",
    "    print(\"2. Create a new directory\")\n",
    "    print(\"3. Create a new text file\")\n",
    "    print(\"4. Read a text file\")\n",
    "    print(\"5. Rename an item\")\n",
    "    print(\"6. Remove an item\")\n",
    "    print(\"7. Exit\")\n",
    "\n",
    "    choice = input(\"\\nEnter your choice (1-7): \")\n",
    "\n",
    "    if choice == \"1\":\n",
    "        list_contents()\n",
    "    elif choice == \"2\":\n",
    "        create_directory()\n",
    "    elif choice == \"3\":\n",
    "        create_text_file()\n",
    "    elif choice == \"4\":\n",
    "        read_file()\n",
    "    elif choice == \"5\":\n",
    "        rename_item()\n",
    "    elif choice == \"6\":\n",
    "        remove_item()\n",
    "    elif choice == \"7\":\n",
    "        print(\"Exiting the program.\")\n",
    "        break\n",
    "    else:\n",
    "        print(\"Invalid choice. Please select a valid option.\")\n"
   ]
  },
  {
   "cell_type": "markdown",
   "metadata": {},
   "source": [
    "MATH MODULE"
   ]
  },
  {
   "cell_type": "code",
   "execution_count": 8,
   "metadata": {},
   "outputs": [
    {
     "name": "stdout",
     "output_type": "stream",
     "text": [
      "\n",
      "Math Operations Menu:\n",
      "1. Square Root\n",
      "2. Natural Logarithm (ln)\n",
      "3. Sine\n",
      "4. Cosine\n",
      "5. Exit\n",
      "Sine of 90.0 degrees is 1.0\n",
      "\n",
      "Math Operations Menu:\n",
      "1. Square Root\n",
      "2. Natural Logarithm (ln)\n",
      "3. Sine\n",
      "4. Cosine\n",
      "5. Exit\n",
      "Square root of 4.0 is 2.0\n",
      "\n",
      "Math Operations Menu:\n",
      "1. Square Root\n",
      "2. Natural Logarithm (ln)\n",
      "3. Sine\n",
      "4. Cosine\n",
      "5. Exit\n",
      "Exiting Math Operations.\n"
     ]
    }
   ],
   "source": [
    "import math\n",
    "while True:\n",
    "    print(\"\\nMath Operations Menu:\")\n",
    "    print(\"1. Square Root\")\n",
    "    print(\"2. Natural Logarithm (ln)\")\n",
    "    print(\"3. Sine\")\n",
    "    print(\"4. Cosine\")\n",
    "    print(\"5. Exit\")\n",
    "    choice = input(\"\\nEnter your choice (1-5): \")\n",
    "    if choice == \"1\":\n",
    "        number = float(input(\"Enter a number to find its square root: \"))\n",
    "        print(f\"Square root of {number} is {math.sqrt(number)}\")\n",
    "    elif choice == \"2\":\n",
    "        number = float(input(\"Enter a number to find its natural logarithm (ln): \"))\n",
    "        print(f\"Natural logarithm of {number} is {math.log(number)}\")\n",
    "    elif choice == \"3\":\n",
    "        angle = float(input(\"Enter an angle in degrees to find its sine: \"))\n",
    "        print(f\"Sine of {angle} degrees is {math.sin(math.radians(angle))}\")\n",
    "    elif choice == \"4\":\n",
    "        angle = float(input(\"Enter an angle in degrees to find its cosine: \"))\n",
    "        print(f\"Cosine of {angle} degrees is {math.cos(math.radians(angle))}\")\n",
    "    elif choice == \"5\":\n",
    "        print(\"Exiting Math Operations.\")\n",
    "        break\n",
    "    else:\n",
    "        print(\"Invalid choice. Please select a valid option.\")\n"
   ]
  },
  {
   "cell_type": "code",
   "execution_count": 26,
   "metadata": {},
   "outputs": [
    {
     "name": "stdout",
     "output_type": "stream",
     "text": [
      "Area of Rectangle: 18 \n",
      " Perimeter is : 6.0\n",
      "Area of Circle: 153.86\n",
      " Perimeter is: 43.96\n"
     ]
    }
   ],
   "source": [
    "class Shape:\n",
    "    def area(self):\n",
    "        pass\n",
    "\n",
    "class Rectangle(Shape):\n",
    "    def __init__(self, width, height):\n",
    "        self.width, self.height = width, height\n",
    "    def area(self):\n",
    "        return self.width * self.height\n",
    "    def perimeter(self):\n",
    "        return 2 * (length+height)\n",
    "\n",
    "class Circle(Shape):\n",
    "    def __init__(self, radius):\n",
    "        self.radius = radius\n",
    "    def area(self):\n",
    "        return 3.14 * self.radius ** 2\n",
    "    def perimeter(self):\n",
    "        return 2 * 3.14 * self.radius\n",
    "\n",
    "rectangle = Rectangle(3,6)\n",
    "circle = Circle(7)\n",
    "print(f\"Area of Rectangle: {rectangle.area()} \\n Perimeter is : {rectangle.perimeter()}\")\n",
    "print(f\"Area of Circle: {circle.area()}\\n Perimeter is: {circle.perimeter()}\")"
   ]
  },
  {
   "cell_type": "code",
   "execution_count": 11,
   "metadata": {},
   "outputs": [
    {
     "ename": "NameError",
     "evalue": "name 'new_list' is not defined",
     "output_type": "error",
     "traceback": [
      "\u001b[0;31m---------------------------------------------------------------------------\u001b[0m",
      "\u001b[0;31mNameError\u001b[0m                                 Traceback (most recent call last)",
      "\u001b[1;32m/Users/joelmendonsa/Desktop/Big data programming/Assignment 2/new.ipynb Cell 19\u001b[0m line \u001b[0;36m1\n\u001b[0;32m----> <a href='vscode-notebook-cell:/Users/joelmendonsa/Desktop/Big%20data%20programming/Assignment%202/new.ipynb#X41sZmlsZQ%3D%3D?line=0'>1</a>\u001b[0m new_list\n",
      "\u001b[0;31mNameError\u001b[0m: name 'new_list' is not defined"
     ]
    }
   ],
   "source": [
    "new_list"
   ]
  },
  {
   "cell_type": "code",
   "execution_count": 13,
   "metadata": {},
   "outputs": [
    {
     "name": "stdout",
     "output_type": "stream",
     "text": [
      "The area of the triangle is: 1.0\n"
     ]
    }
   ],
   "source": [
    "def triangle(a,b):\n",
    "    area = 0.5 * a * b\n",
    "    return area\n",
    "length = float((input('Enter the Length')))\n",
    "height = float(input(\"Enter the height\"))\n",
    "result = triangle(length,height)\n",
    "print(f\"The area of the triangle is: {result}\")"
   ]
  },
  {
   "cell_type": "code",
   "execution_count": 14,
   "metadata": {},
   "outputs": [
    {
     "name": "stdout",
     "output_type": "stream",
     "text": [
      "The list of even numbers is:  [2, 4, 6, 8]\n"
     ]
    }
   ],
   "source": [
    "def even():\n",
    "    new_list = [2,3,4,5,6,7,8]\n",
    "    even_list = []\n",
    "    for num in new_list:\n",
    "        if num % 2 == 0:\n",
    "            even_list.append(num)\n",
    "    print(\"The list of even numbers is: \", even_list)\n",
    "even()"
   ]
  },
  {
   "cell_type": "code",
   "execution_count": 16,
   "metadata": {},
   "outputs": [
    {
     "name": "stdout",
     "output_type": "stream",
     "text": [
      "The temperature in Celsius is:  9.444444444444445\n"
     ]
    }
   ],
   "source": [
    "def temperature():\n",
    "    f = float(input(\"Enter the temperature in Fahrenheit: \"))\n",
    "    c = (f - 32) * 5/9\n",
    "    print(\"The temperature in Celsius is: \", c)\n",
    "\n",
    "temperature()"
   ]
  },
  {
   "cell_type": "code",
   "execution_count": 24,
   "metadata": {},
   "outputs": [
    {
     "ename": "TypeError",
     "evalue": "Address() takes no arguments",
     "output_type": "error",
     "traceback": [
      "\u001b[0;31m---------------------------------------------------------------------------\u001b[0m",
      "\u001b[0;31mTypeError\u001b[0m                                 Traceback (most recent call last)",
      "\u001b[1;32m/Users/joelmendonsa/Desktop/Big data programming/Assignment 2/new.ipynb Cell 23\u001b[0m line \u001b[0;36m1\n\u001b[1;32m      <a href='vscode-notebook-cell:/Users/joelmendonsa/Desktop/Big%20data%20programming/Assignment%202/new.ipynb#X45sZmlsZQ%3D%3D?line=8'>9</a>\u001b[0m street \u001b[39m=\u001b[39m \u001b[39minput\u001b[39m(\u001b[39m\"\u001b[39m\u001b[39mEnter the street: \u001b[39m\u001b[39m\"\u001b[39m)\n\u001b[1;32m     <a href='vscode-notebook-cell:/Users/joelmendonsa/Desktop/Big%20data%20programming/Assignment%202/new.ipynb#X45sZmlsZQ%3D%3D?line=9'>10</a>\u001b[0m city \u001b[39m=\u001b[39m \u001b[39minput\u001b[39m(\u001b[39m\"\u001b[39m\u001b[39mEnter the city: \u001b[39m\u001b[39m\"\u001b[39m)\n\u001b[0;32m---> <a href='vscode-notebook-cell:/Users/joelmendonsa/Desktop/Big%20data%20programming/Assignment%202/new.ipynb#X45sZmlsZQ%3D%3D?line=10'>11</a>\u001b[0m address \u001b[39m=\u001b[39m Address(street, city)\n\u001b[1;32m     <a href='vscode-notebook-cell:/Users/joelmendonsa/Desktop/Big%20data%20programming/Assignment%202/new.ipynb#X45sZmlsZQ%3D%3D?line=12'>13</a>\u001b[0m name \u001b[39m=\u001b[39m \u001b[39minput\u001b[39m(\u001b[39m\"\u001b[39m\u001b[39mEnter the name: \u001b[39m\u001b[39m\"\u001b[39m)\n\u001b[1;32m     <a href='vscode-notebook-cell:/Users/joelmendonsa/Desktop/Big%20data%20programming/Assignment%202/new.ipynb#X45sZmlsZQ%3D%3D?line=13'>14</a>\u001b[0m person \u001b[39m=\u001b[39m Person(name, address)\n",
      "\u001b[0;31mTypeError\u001b[0m: Address() takes no arguments"
     ]
    }
   ],
   "source": [
    "class Address:\n",
    "    def _init_(self, s, c):\n",
    "        self.street = s\n",
    "        self.city = c\n",
    "class Person:\n",
    "    def _init_(self, n, a):\n",
    "        self.name = n\n",
    "        self.address = a\n",
    "street = input(\"Enter the street: \")\n",
    "city = input(\"Enter the city: \")\n",
    "address = Address(street, city)\n",
    "\n",
    "name = input(\"Enter the name: \")\n",
    "person = Person(name, address)\n",
    "\n",
    "print(\"The person's name is: \", person.name)\n",
    "print(\"The person's address is: \", person.address.street, person.address.city)"
   ]
  },
  {
   "cell_type": "code",
   "execution_count": 34,
   "metadata": {},
   "outputs": [],
   "source": [
    "import calculator"
   ]
  },
  {
   "cell_type": "code",
   "execution_count": 36,
   "metadata": {},
   "outputs": [
    {
     "name": "stdout",
     "output_type": "stream",
     "text": [
      "The sum is : 60\n",
      "The subraction is : 40\n",
      "The multiplication is : 500\n",
      "The division is : 5.0\n"
     ]
    }
   ],
   "source": [
    "print(\"The sum is : {}\".format(calculator.add(50,10)))\n",
    "print(\"The subraction is : {}\".format(calculator.subtract(50,10)))\n",
    "print(\"The multiplication is : {}\".format(calculator.multiply(50,10)))\n",
    "print(\"The division is : {}\".format(calculator.divide(50,10)))"
   ]
  },
  {
   "cell_type": "code",
   "execution_count": 38,
   "metadata": {},
   "outputs": [
    {
     "ename": "ModuleNotFoundError",
     "evalue": "No module named 'requests'",
     "output_type": "error",
     "traceback": [
      "\u001b[0;31m---------------------------------------------------------------------------\u001b[0m",
      "\u001b[0;31mModuleNotFoundError\u001b[0m                       Traceback (most recent call last)",
      "\u001b[1;32m/Users/joelmendonsa/Desktop/Big data programming/Assignment 2/new.ipynb Cell 26\u001b[0m line \u001b[0;36m1\n\u001b[0;32m----> <a href='vscode-notebook-cell:/Users/joelmendonsa/Desktop/Big%20data%20programming/Assignment%202/new.ipynb#X53sZmlsZQ%3D%3D?line=0'>1</a>\u001b[0m \u001b[39mimport\u001b[39;00m \u001b[39mAPI\u001b[39;00m\n",
      "File \u001b[0;32m~/Desktop/Big data programming/Assignment 2/API.py:1\u001b[0m\n\u001b[0;32m----> 1\u001b[0m \u001b[39mimport\u001b[39;00m \u001b[39mrequests\u001b[39;00m\n\u001b[1;32m      2\u001b[0m response \u001b[39m=\u001b[39m requests\u001b[39m.\u001b[39mget(\u001b[39m\"\u001b[39m\u001b[39mhttps://randomuser.me/api/\u001b[39m\u001b[39m\"\u001b[39m)\n",
      "\u001b[0;31mModuleNotFoundError\u001b[0m: No module named 'requests'"
     ]
    }
   ],
   "source": [
    "import API\n",
    "response.text"
   ]
  },
  {
   "cell_type": "code",
   "execution_count": 42,
   "metadata": {},
   "outputs": [
    {
     "name": "stdout",
     "output_type": "stream",
     "text": [
      "the reversed string is: 1\n"
     ]
    }
   ],
   "source": [
    "import string_utils\n",
    "print('the reversed string is: {}'.format(string_utils.reverse_string(a='string a')))\n",
    "print('the counting is: {}'.format(string_utils.counting(a='string a')))\n",
    "print('the Uppercase string is: {}'.format(string_utils.uppercase(a='string a')))"
   ]
  },
  {
   "cell_type": "code",
   "execution_count": null,
   "metadata": {},
   "outputs": [],
   "source": []
  }
 ],
 "metadata": {
  "kernelspec": {
   "display_name": "myenv",
   "language": "python",
   "name": "python3"
  },
  "language_info": {
   "codemirror_mode": {
    "name": "ipython",
    "version": 3
   },
   "file_extension": ".py",
   "mimetype": "text/x-python",
   "name": "python",
   "nbconvert_exporter": "python",
   "pygments_lexer": "ipython3",
   "version": "3.10.9"
  },
  "orig_nbformat": 4
 },
 "nbformat": 4,
 "nbformat_minor": 2
}
