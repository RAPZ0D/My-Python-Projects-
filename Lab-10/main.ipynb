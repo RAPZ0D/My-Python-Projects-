{
 "cells": [
  {
   "cell_type": "markdown",
   "metadata": {},
   "source": [
    "# LAB 10 "
   ]
  },
  {
   "cell_type": "code",
   "execution_count": 3,
   "metadata": {},
   "outputs": [
    {
     "name": "stdout",
     "output_type": "stream",
     "text": [
      "Connected to MySQL database!\n",
      "Database version: ('8.1.0',)\n",
      "Connection closed.\n"
     ]
    }
   ],
   "source": [
    "import mysql.connector\n",
    "\n",
    "# Database credentials\n",
    "db_config = {\n",
    "    'host': 'localhost',\n",
    "    'user': 'root',\n",
    "    'password': 'Duke#7539',\n",
    "    'database': 'lab10'\n",
    "}\n",
    "\n",
    "# Establishing connection to MySQL\n",
    "conn = mysql.connector.connect(**db_config)\n",
    "if conn.is_connected():\n",
    "    print('Connected to MySQL database!')\n",
    "    cursor = conn.cursor()\n",
    "    # Execute SQL query\n",
    "    cursor.execute(\"SELECT VERSION()\")\n",
    "    data = cursor.fetchone()\n",
    "    print(\"Database version:\", data)\n",
    "    # Close cursor and connection\n",
    "    cursor.close()\n",
    "    conn.close()\n",
    "    print('Connection closed.')\n"
   ]
  },
  {
   "cell_type": "code",
   "execution_count": 8,
   "metadata": {},
   "outputs": [
    {
     "name": "stdout",
     "output_type": "stream",
     "text": [
      "   Year           Country  Region           SubRegion   IntermRegion  \\\n",
      "0  1973       Afghanistan    Asia       Southern Asia            NaN   \n",
      "1  1973       Netherlands  Europe      Western Europe            NaN   \n",
      "2  1973            Poland  Europe      Eastern Europe            NaN   \n",
      "3  1973  Egypt, Arab Rep.  Africa     Northern Africa            NaN   \n",
      "4  1973             Gabon  Africa  Sub-Saharan Africa  Middle Africa   \n",
      "\n",
      "   SurfAreaSqKm     PopDens  PopGrowth%           GDP  GDPGrowth%  \\\n",
      "0      652860.0   17.747275    2.524421  1.733333e+09         NaN   \n",
      "1       41530.0  398.084182    0.827331  7.184091e+10    5.444223   \n",
      "2      312690.0  108.907245    0.908114           NaN         NaN   \n",
      "3     1001450.0   37.290448    2.151183  1.009853e+10    3.506830   \n",
      "4      267670.0    2.465510    2.067382  7.227807e+08   10.182434   \n",
      "\n",
      "   AdolFertRate  AgriValAdd%GDP  DomCredit%GDP  Exports%GDP  FertRate  \\\n",
      "0       142.874             NaN            NaN    12.948718     7.487   \n",
      "1        16.931        4.676097            NaN    45.414386     1.900   \n",
      "2        27.951             NaN            NaN          NaN     2.260   \n",
      "3       123.414       26.574931            NaN    13.535151     5.888   \n",
      "4       186.627       11.607697            NaN    58.845431     5.287   \n",
      "\n",
      "      FDINetBoP  GNI/CapAtlas      GNIAtlas  GrossCapForm%GDP  Imports%GDP  \\\n",
      "0  2.700000e+05           NaN           NaN          7.307692    14.743591   \n",
      "1  1.118995e+09        4970.0  6.675403e+10         25.746197    40.745626   \n",
      "2           NaN           NaN           NaN               NaN          NaN   \n",
      "3  7.000000e+05         290.0  1.078169e+10         13.197398    18.161121   \n",
      "4  1.590000e+07         890.0  5.644684e+08         37.554314    57.666027   \n",
      "\n",
      "   IndValAdd%GDP  InflConsPric%  LifeExpBirth  MerchTrade%GDP  MilExp%GDP  \\\n",
      "0            NaN            NaN     39.003000       18.173078    1.868910   \n",
      "1      31.915281       8.481001     74.143902       78.083644    2.702997   \n",
      "2            NaN            NaN     70.663415             NaN         NaN   \n",
      "3      20.495372       7.352615     50.852000       20.161341   13.513514   \n",
      "4      47.858405      34.757654     54.057000       72.082722    1.303538   \n",
      "\n",
      "   MobileSubs/100  MortRateU5   NetMigr    PopTotal  RevenueExGrants%GDP  \\\n",
      "0             NaN       285.2   -3030.0  11575305.0                  NaN   \n",
      "1             NaN        14.1   31535.0  13439322.0            38.294098   \n",
      "2             NaN        30.5  -28055.0  33357200.0                  NaN   \n",
      "3             NaN       232.5 -112685.0  37120776.0                  NaN   \n",
      "4             NaN       149.4     613.0    635288.0                  NaN   \n",
      "\n",
      "   SchEnrollPrim%  TaxRevenue%GDP  UrbanPopGrowth%  \n",
      "0       35.214371             NaN         5.688982  \n",
      "1      100.047302       22.460626         1.337022  \n",
      "2      105.338722             NaN         2.125265  \n",
      "3       70.221947             NaN         3.007695  \n",
      "4      130.283417             NaN         7.959430  \n"
     ]
    }
   ],
   "source": [
    "import pandas as pd\n",
    "\n",
    "# Load the CSV file into a DataFrame\n",
    "file_path = 'world_development_data.csv'  # Replace 'your_file_path.csv' with your CSV file path\n",
    "df = pd.read_csv(file_path)\n",
    "\n",
    "# Display all columns and rows\n",
    "pd.set_option('display.max_columns', None)  # To display all columns\n",
    "pd.set_option('display.max_rows', None)     # To display all rows\n",
    "print(df.head())\n"
   ]
  },
  {
   "cell_type": "markdown",
   "metadata": {},
   "source": [
    "Table 1"
   ]
  },
  {
   "cell_type": "code",
   "execution_count": 9,
   "metadata": {},
   "outputs": [
    {
     "name": "stdout",
     "output_type": "stream",
     "text": [
      "Data inserted successfully.\n"
     ]
    }
   ],
   "source": [
    "import pandas as pd\n",
    "import mysql.connector\n",
    "\n",
    "# Database credentials\n",
    "db_config = {\n",
    "    'host': 'localhost',\n",
    "    'user': 'root',\n",
    "    'password': 'Duke#7539',\n",
    "    'database': 'lab10'\n",
    "}\n",
    "\n",
    "# Initial CountryID value\n",
    "country_id = 100\n",
    "\n",
    "# Establishing connection to MySQL\n",
    "conn = mysql.connector.connect(**db_config)\n",
    "\n",
    "if conn.is_connected():\n",
    "    cursor = conn.cursor()\n",
    "\n",
    "    # Read CSV file into a pandas DataFrame\n",
    "    file_path = 'world_development_data.csv'  # Replace with your CSV file path\n",
    "    data = pd.read_csv(file_path)\n",
    "\n",
    "    # Mapping between CSV column names and table column names\n",
    "    column_mapping = {\n",
    "        'Country': 'CountryName',\n",
    "        'Region': 'Region',\n",
    "        'SubRegion': 'SubRegion',\n",
    "        'IntermRegion': 'IntermRegion',\n",
    "        'SurfAreaSqKm': 'SurfAreaSqKm',\n",
    "        'PopDens': 'PopDens',\n",
    "        'PopGrowth%': 'PopGrowth'\n",
    "    }\n",
    "\n",
    "    # Map columns according to the provided pattern\n",
    "    data = data.rename(columns=column_mapping)\n",
    "\n",
    "    # Insert data into the CountryInfo table with assigned CountryID values\n",
    "    for _, row in data.iterrows():\n",
    "        # Check for NaN (null) values and replace them with None\n",
    "        row = row.where(pd.notnull(row), None)\n",
    "\n",
    "        insert_query = \"\"\"\n",
    "            INSERT INTO CountryInfo (CountryID, CountryName, Region, SubRegion, IntermRegion, SurfAreaSqKm, PopDens, PopGrowth)\n",
    "            VALUES (%s, %s, %s, %s, %s, %s, %s, %s)\n",
    "        \"\"\"\n",
    "        values = (\n",
    "            country_id,\n",
    "            row['CountryName'],\n",
    "            row['Region'],\n",
    "            row['SubRegion'],\n",
    "            row['IntermRegion'],\n",
    "            row['SurfAreaSqKm'],\n",
    "            row['PopDens'],\n",
    "            row['PopGrowth']\n",
    "        )\n",
    "        cursor.execute(insert_query, values)\n",
    "\n",
    "        # Increment CountryID for the next row insertion\n",
    "        country_id += 1\n",
    "\n",
    "    # Commit changes and close connection\n",
    "    conn.commit()\n",
    "    cursor.close()\n",
    "    conn.close()\n",
    "    print('Data inserted successfully.')\n",
    "else:\n",
    "    print('Connection failed.')\n"
   ]
  },
  {
   "cell_type": "markdown",
   "metadata": {},
   "source": [
    "Table 2"
   ]
  },
  {
   "cell_type": "code",
   "execution_count": 43,
   "metadata": {},
   "outputs": [
    {
     "name": "stdout",
     "output_type": "stream",
     "text": [
      "Number of matching columns between CSV and table: 6\n",
      "Matching columns: {'GDP', 'FertRate', 'AdolFertRate', 'Year', 'GNIAtlas', 'FDINetBoP'}\n"
     ]
    }
   ],
   "source": [
    "import pandas as pd\n",
    "\n",
    "# Read the CSV file\n",
    "file_path = 'world_development_data.csv'  # Replace with your CSV file path\n",
    "data = pd.read_csv(file_path)\n",
    "\n",
    "# Columns in the CSV file\n",
    "csv_columns = data.columns.tolist()\n",
    "\n",
    "# Column names for Economic Indicators table\n",
    "table_columns = [\n",
    "    'Year', 'CountryID', 'GDP', 'GDPGrowth', 'AdolFertRate', 'AgriValAddGDP', 'DomCreditGDP', 'ExportsGDP',\n",
    "    'FertRate', 'FDINetBoP', 'GNICapAtlas', 'GNIAtlas', 'GrossCapFormGDP', 'ImportsGDP', 'IndValAddGDP'\n",
    "]\n",
    "\n",
    "# Check how many columns from the CSV match the table columns\n",
    "matching_columns = set(csv_columns) & set(table_columns)\n",
    "num_matching_columns = len(matching_columns)\n",
    "\n",
    "print(f\"Number of matching columns between CSV and table: {num_matching_columns}\")\n",
    "print(f\"Matching columns: {matching_columns}\")\n"
   ]
  },
  {
   "cell_type": "code",
   "execution_count": 15,
   "metadata": {},
   "outputs": [
    {
     "ename": "DataError",
     "evalue": "(1264, \"Out of range value for column 'FDINetBoP' at row 1\")",
     "output_type": "error",
     "traceback": [
      "\u001b[0;31m---------------------------------------------------------------------------\u001b[0m",
      "\u001b[0;31mDataError\u001b[0m                                 Traceback (most recent call last)",
      "\u001b[1;32m/Users/joelmendonsa/Desktop/Big data programming/Assignment 10/main.ipynb Cell 8\u001b[0m line \u001b[0;36m4\n\u001b[1;32m     <a href='vscode-notebook-cell:/Users/joelmendonsa/Desktop/Big%20data%20programming/Assignment%2010/main.ipynb#X20sZmlsZQ%3D%3D?line=41'>42</a>\u001b[0m     placeholders \u001b[39m=\u001b[39m \u001b[39m'\u001b[39m\u001b[39m, \u001b[39m\u001b[39m'\u001b[39m\u001b[39m.\u001b[39mjoin([\u001b[39m'\u001b[39m\u001b[39m%s\u001b[39;00m\u001b[39m'\u001b[39m] \u001b[39m*\u001b[39m \u001b[39mlen\u001b[39m(table_columns))\n\u001b[1;32m     <a href='vscode-notebook-cell:/Users/joelmendonsa/Desktop/Big%20data%20programming/Assignment%2010/main.ipynb#X20sZmlsZQ%3D%3D?line=42'>43</a>\u001b[0m     query \u001b[39m=\u001b[39m \u001b[39mf\u001b[39m\u001b[39m\"\u001b[39m\u001b[39mINSERT INTO EconomicIndicators (CountryID, \u001b[39m\u001b[39m{\u001b[39;00m\u001b[39m'\u001b[39m\u001b[39m, \u001b[39m\u001b[39m'\u001b[39m\u001b[39m.\u001b[39mjoin(table_columns)\u001b[39m}\u001b[39;00m\u001b[39m) VALUES \u001b[39m\u001b[39m\"\u001b[39m \\\n\u001b[1;32m     <a href='vscode-notebook-cell:/Users/joelmendonsa/Desktop/Big%20data%20programming/Assignment%2010/main.ipynb#X20sZmlsZQ%3D%3D?line=43'>44</a>\u001b[0m             \u001b[39mf\u001b[39m\u001b[39m\"\u001b[39m\u001b[39m(\u001b[39m\u001b[39m{\u001b[39;00mcountry_id\u001b[39m}\u001b[39;00m\u001b[39m, \u001b[39m\u001b[39m{\u001b[39;00mplaceholders\u001b[39m}\u001b[39;00m\u001b[39m)\u001b[39m\u001b[39m\"\u001b[39m\n\u001b[0;32m---> <a href='vscode-notebook-cell:/Users/joelmendonsa/Desktop/Big%20data%20programming/Assignment%2010/main.ipynb#X20sZmlsZQ%3D%3D?line=44'>45</a>\u001b[0m     cursor\u001b[39m.\u001b[39;49mexecute(query, values)\n\u001b[1;32m     <a href='vscode-notebook-cell:/Users/joelmendonsa/Desktop/Big%20data%20programming/Assignment%2010/main.ipynb#X20sZmlsZQ%3D%3D?line=45'>46</a>\u001b[0m     connection\u001b[39m.\u001b[39mcommit()\n\u001b[1;32m     <a href='vscode-notebook-cell:/Users/joelmendonsa/Desktop/Big%20data%20programming/Assignment%2010/main.ipynb#X20sZmlsZQ%3D%3D?line=47'>48</a>\u001b[0m \u001b[39m# Close the cursor and connection\u001b[39;00m\n",
      "File \u001b[0;32m~/Desktop/Big data programming/newenv/lib/python3.10/site-packages/pymysql/cursors.py:153\u001b[0m, in \u001b[0;36mCursor.execute\u001b[0;34m(self, query, args)\u001b[0m\n\u001b[1;32m    149\u001b[0m     \u001b[39mpass\u001b[39;00m\n\u001b[1;32m    151\u001b[0m query \u001b[39m=\u001b[39m \u001b[39mself\u001b[39m\u001b[39m.\u001b[39mmogrify(query, args)\n\u001b[0;32m--> 153\u001b[0m result \u001b[39m=\u001b[39m \u001b[39mself\u001b[39;49m\u001b[39m.\u001b[39;49m_query(query)\n\u001b[1;32m    154\u001b[0m \u001b[39mself\u001b[39m\u001b[39m.\u001b[39m_executed \u001b[39m=\u001b[39m query\n\u001b[1;32m    155\u001b[0m \u001b[39mreturn\u001b[39;00m result\n",
      "File \u001b[0;32m~/Desktop/Big data programming/newenv/lib/python3.10/site-packages/pymysql/cursors.py:322\u001b[0m, in \u001b[0;36mCursor._query\u001b[0;34m(self, q)\u001b[0m\n\u001b[1;32m    320\u001b[0m conn \u001b[39m=\u001b[39m \u001b[39mself\u001b[39m\u001b[39m.\u001b[39m_get_db()\n\u001b[1;32m    321\u001b[0m \u001b[39mself\u001b[39m\u001b[39m.\u001b[39m_clear_result()\n\u001b[0;32m--> 322\u001b[0m conn\u001b[39m.\u001b[39;49mquery(q)\n\u001b[1;32m    323\u001b[0m \u001b[39mself\u001b[39m\u001b[39m.\u001b[39m_do_get_result()\n\u001b[1;32m    324\u001b[0m \u001b[39mreturn\u001b[39;00m \u001b[39mself\u001b[39m\u001b[39m.\u001b[39mrowcount\n",
      "File \u001b[0;32m~/Desktop/Big data programming/newenv/lib/python3.10/site-packages/pymysql/connections.py:558\u001b[0m, in \u001b[0;36mConnection.query\u001b[0;34m(self, sql, unbuffered)\u001b[0m\n\u001b[1;32m    556\u001b[0m     sql \u001b[39m=\u001b[39m sql\u001b[39m.\u001b[39mencode(\u001b[39mself\u001b[39m\u001b[39m.\u001b[39mencoding, \u001b[39m\"\u001b[39m\u001b[39msurrogateescape\u001b[39m\u001b[39m\"\u001b[39m)\n\u001b[1;32m    557\u001b[0m \u001b[39mself\u001b[39m\u001b[39m.\u001b[39m_execute_command(COMMAND\u001b[39m.\u001b[39mCOM_QUERY, sql)\n\u001b[0;32m--> 558\u001b[0m \u001b[39mself\u001b[39m\u001b[39m.\u001b[39m_affected_rows \u001b[39m=\u001b[39m \u001b[39mself\u001b[39;49m\u001b[39m.\u001b[39;49m_read_query_result(unbuffered\u001b[39m=\u001b[39;49munbuffered)\n\u001b[1;32m    559\u001b[0m \u001b[39mreturn\u001b[39;00m \u001b[39mself\u001b[39m\u001b[39m.\u001b[39m_affected_rows\n",
      "File \u001b[0;32m~/Desktop/Big data programming/newenv/lib/python3.10/site-packages/pymysql/connections.py:822\u001b[0m, in \u001b[0;36mConnection._read_query_result\u001b[0;34m(self, unbuffered)\u001b[0m\n\u001b[1;32m    820\u001b[0m \u001b[39melse\u001b[39;00m:\n\u001b[1;32m    821\u001b[0m     result \u001b[39m=\u001b[39m MySQLResult(\u001b[39mself\u001b[39m)\n\u001b[0;32m--> 822\u001b[0m     result\u001b[39m.\u001b[39;49mread()\n\u001b[1;32m    823\u001b[0m \u001b[39mself\u001b[39m\u001b[39m.\u001b[39m_result \u001b[39m=\u001b[39m result\n\u001b[1;32m    824\u001b[0m \u001b[39mif\u001b[39;00m result\u001b[39m.\u001b[39mserver_status \u001b[39mis\u001b[39;00m \u001b[39mnot\u001b[39;00m \u001b[39mNone\u001b[39;00m:\n",
      "File \u001b[0;32m~/Desktop/Big data programming/newenv/lib/python3.10/site-packages/pymysql/connections.py:1200\u001b[0m, in \u001b[0;36mMySQLResult.read\u001b[0;34m(self)\u001b[0m\n\u001b[1;32m   1198\u001b[0m \u001b[39mdef\u001b[39;00m \u001b[39mread\u001b[39m(\u001b[39mself\u001b[39m):\n\u001b[1;32m   1199\u001b[0m     \u001b[39mtry\u001b[39;00m:\n\u001b[0;32m-> 1200\u001b[0m         first_packet \u001b[39m=\u001b[39m \u001b[39mself\u001b[39;49m\u001b[39m.\u001b[39;49mconnection\u001b[39m.\u001b[39;49m_read_packet()\n\u001b[1;32m   1202\u001b[0m         \u001b[39mif\u001b[39;00m first_packet\u001b[39m.\u001b[39mis_ok_packet():\n\u001b[1;32m   1203\u001b[0m             \u001b[39mself\u001b[39m\u001b[39m.\u001b[39m_read_ok_packet(first_packet)\n",
      "File \u001b[0;32m~/Desktop/Big data programming/newenv/lib/python3.10/site-packages/pymysql/connections.py:772\u001b[0m, in \u001b[0;36mConnection._read_packet\u001b[0;34m(self, packet_type)\u001b[0m\n\u001b[1;32m    770\u001b[0m     \u001b[39mif\u001b[39;00m \u001b[39mself\u001b[39m\u001b[39m.\u001b[39m_result \u001b[39mis\u001b[39;00m \u001b[39mnot\u001b[39;00m \u001b[39mNone\u001b[39;00m \u001b[39mand\u001b[39;00m \u001b[39mself\u001b[39m\u001b[39m.\u001b[39m_result\u001b[39m.\u001b[39munbuffered_active \u001b[39mis\u001b[39;00m \u001b[39mTrue\u001b[39;00m:\n\u001b[1;32m    771\u001b[0m         \u001b[39mself\u001b[39m\u001b[39m.\u001b[39m_result\u001b[39m.\u001b[39munbuffered_active \u001b[39m=\u001b[39m \u001b[39mFalse\u001b[39;00m\n\u001b[0;32m--> 772\u001b[0m     packet\u001b[39m.\u001b[39;49mraise_for_error()\n\u001b[1;32m    773\u001b[0m \u001b[39mreturn\u001b[39;00m packet\n",
      "File \u001b[0;32m~/Desktop/Big data programming/newenv/lib/python3.10/site-packages/pymysql/protocol.py:221\u001b[0m, in \u001b[0;36mMysqlPacket.raise_for_error\u001b[0;34m(self)\u001b[0m\n\u001b[1;32m    219\u001b[0m \u001b[39mif\u001b[39;00m DEBUG:\n\u001b[1;32m    220\u001b[0m     \u001b[39mprint\u001b[39m(\u001b[39m\"\u001b[39m\u001b[39merrno =\u001b[39m\u001b[39m\"\u001b[39m, errno)\n\u001b[0;32m--> 221\u001b[0m err\u001b[39m.\u001b[39;49mraise_mysql_exception(\u001b[39mself\u001b[39;49m\u001b[39m.\u001b[39;49m_data)\n",
      "File \u001b[0;32m~/Desktop/Big data programming/newenv/lib/python3.10/site-packages/pymysql/err.py:143\u001b[0m, in \u001b[0;36mraise_mysql_exception\u001b[0;34m(data)\u001b[0m\n\u001b[1;32m    141\u001b[0m \u001b[39mif\u001b[39;00m errorclass \u001b[39mis\u001b[39;00m \u001b[39mNone\u001b[39;00m:\n\u001b[1;32m    142\u001b[0m     errorclass \u001b[39m=\u001b[39m InternalError \u001b[39mif\u001b[39;00m errno \u001b[39m<\u001b[39m \u001b[39m1000\u001b[39m \u001b[39melse\u001b[39;00m OperationalError\n\u001b[0;32m--> 143\u001b[0m \u001b[39mraise\u001b[39;00m errorclass(errno, errval)\n",
      "\u001b[0;31mDataError\u001b[0m: (1264, \"Out of range value for column 'FDINetBoP' at row 1\")"
     ]
    }
   ],
   "source": [
    "import pymysql\n",
    "import pandas as pd\n",
    "from fuzzywuzzy import process\n",
    "\n",
    "# Read the CSV file\n",
    "file_path = 'world_development_data.csv'  # Replace with your CSV file path\n",
    "data = pd.read_csv(file_path)\n",
    "\n",
    "# Specified column names for Economic Indicators table\n",
    "table_columns = [\n",
    "    'Year', 'GDP', 'GDPGrowth', 'AdolFertRate', 'AgriValAddGDP', 'DomCreditGDP', 'ExportsGDP',\n",
    "    'FertRate', 'FDINetBoP', 'GNICapAtlas', 'GNIAtlas', 'GrossCapFormGDP', 'ImportsGDP', 'IndValAddGDP'\n",
    "]\n",
    "\n",
    "# Columns in the CSV file\n",
    "csv_columns = data.columns.tolist()\n",
    "\n",
    "# Find similar column names using fuzzy matching\n",
    "similar_columns = {}\n",
    "for table_column in table_columns:\n",
    "    matches = process.extract(table_column, csv_columns, limit=1)\n",
    "    if matches[0][1] > 80:  # Adjust the threshold as needed (80 is an example threshold)\n",
    "        similar_columns[table_column] = matches[0][0]\n",
    "\n",
    "# Database connection configuration\n",
    "db_config = {\n",
    "    'host': 'localhost',\n",
    "    'user': 'root',\n",
    "    'password': 'Duke#7539',\n",
    "    'database': 'lab10'\n",
    "}\n",
    "\n",
    "# Connect to the database\n",
    "connection = pymysql.connect(**db_config)\n",
    "cursor = connection.cursor()\n",
    "\n",
    "# Insert values into the Economic Indicators table\n",
    "for index, row in data.iterrows():\n",
    "    country_id = 100 + index  # Starting CountryID at 100 and auto-incrementing\n",
    "    values = [row[similar_columns[col]] if col in similar_columns and pd.notnull(row[similar_columns[col]]) else None\n",
    "              for col in table_columns]\n",
    "    placeholders = ', '.join(['%s'] * len(table_columns))\n",
    "    query = f\"INSERT INTO EconomicIndicators (CountryID, {', '.join(table_columns)}) VALUES \" \\\n",
    "            f\"({country_id}, {placeholders})\"\n",
    "    cursor.execute(query, values)\n",
    "    connection.commit()\n",
    "\n",
    "# Close the cursor and connection\n",
    "cursor.close()\n",
    "connection.close()\n"
   ]
  },
  {
   "cell_type": "code",
   "execution_count": 1,
   "metadata": {},
   "outputs": [
    {
     "name": "stdout",
     "output_type": "stream",
     "text": [
      "Error: (1008, \"Can't drop database 'lab10'; database doesn't exist\")\n"
     ]
    }
   ],
   "source": [
    "import pymysql\n",
    "\n",
    "# Database connection configuration\n",
    "db_config = {\n",
    "    'host': 'localhost',\n",
    "    'user': 'root',\n",
    "    'password': 'Duke#7539'  # Replace with your MySQL root password\n",
    "}\n",
    "\n",
    "# Database name to be dropped\n",
    "database_name = 'lab10'\n",
    "\n",
    "try:\n",
    "    # Connect to MySQL\n",
    "    connection = pymysql.connect(**db_config)\n",
    "    cursor = connection.cursor()\n",
    "\n",
    "    # SQL command to drop the database\n",
    "    drop_database_query = f\"DROP DATABASE {database_name}\"\n",
    "\n",
    "    # Execute the query to drop the database\n",
    "    cursor.execute(drop_database_query)\n",
    "    print(f\"Database '{database_name}' dropped successfully.\")\n",
    "\n",
    "    # Close the cursor and connection\n",
    "    cursor.close()\n",
    "    connection.close()\n",
    "\n",
    "except pymysql.Error as e:\n",
    "    print(f\"Error: {e}\")\n"
   ]
  },
  {
   "cell_type": "code",
   "execution_count": null,
   "metadata": {},
   "outputs": [],
   "source": []
  }
 ],
 "metadata": {
  "kernelspec": {
   "display_name": "newenv",
   "language": "python",
   "name": "python3"
  },
  "language_info": {
   "codemirror_mode": {
    "name": "ipython",
    "version": 3
   },
   "file_extension": ".py",
   "mimetype": "text/x-python",
   "name": "python",
   "nbconvert_exporter": "python",
   "pygments_lexer": "ipython3",
   "version": "3.10.9"
  }
 },
 "nbformat": 4,
 "nbformat_minor": 2
}
